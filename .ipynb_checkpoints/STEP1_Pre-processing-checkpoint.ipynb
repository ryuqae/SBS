{
 "cells": [
  {
   "cell_type": "code",
   "execution_count": null,
   "metadata": {
    "collapsed": false
   },
   "outputs": [],
   "source": [
    "%autosave 300"
   ]
  },
  {
   "cell_type": "code",
   "execution_count": null,
   "metadata": {
    "collapsed": false,
    "scrolled": true
   },
   "outputs": [],
   "source": [
    "import sys, os\n",
    "import pandas as pd\n",
    "import numpy as np\n",
    "from datetime import timedelta, datetime\n",
    "from timer import date_to_date, time_to_delta"
   ]
  },
  {
   "cell_type": "code",
   "execution_count": null,
   "metadata": {
    "collapsed": true
   },
   "outputs": [],
   "source": [
    "start = datetime.datetime.now()"
   ]
  },
  {
   "cell_type": "code",
   "execution_count": null,
   "metadata": {
    "collapsed": false,
    "scrolled": true
   },
   "outputs": [],
   "source": [
    "period = ['T1', 'T2', 'T3', 'T4']\n",
    "path = 'nielsen_data_new_20170328/%s'\n",
    "dfs = []\n",
    "for p in period:\n",
    "    n_log = 0\n",
    "    print(\"Loading files from period %s\" % p)\n",
    "    files = os.listdir(path % p)\n",
    "    for file in files:\n",
    "        temp_df = pd.read_csv(os.path.join(path % p, file), delimiter = '^', dtype='str', encoding='euc-kr', header=None)\n",
    "        temp_df['기간'] = p\n",
    "        n_log += temp_df.shape[0]\n",
    "        dfs.append(temp_df)\n",
    "    print(\"    %s files : %s\" % (len(files), n_log))"
   ]
  },
  {
   "cell_type": "code",
   "execution_count": null,
   "metadata": {
    "collapsed": true
   },
   "outputs": [],
   "source": [
    "cols = \"일자\t패널가구ID\t개인ID\t가중치\t성별\t연령\t직업\\\n",
    "        학력\t소득\t채널\t시청시작시간\t시청종료시간\t프로그램시청시간\\\n",
    "        프로그램명\t프로그램편성시작시간\t프로그램편성종료시간\t프로그램장르 기간\"\n",
    "cols = cols.split()"
   ]
  },
  {
   "cell_type": "code",
   "execution_count": null,
   "metadata": {
    "collapsed": false
   },
   "outputs": [],
   "source": [
    "raw_df = pd.concat(dfs, ignore_index=True)\n",
    "raw_df.columns = cols"
   ]
  },
  {
   "cell_type": "code",
   "execution_count": null,
   "metadata": {
    "collapsed": false
   },
   "outputs": [],
   "source": [
    "channel = pd.read_csv('channel.txt', delimiter = '\\t', header = 0, dtype='str')\n",
    "genre = pd.read_csv('genre.txt', delimiter='\\t', header = 0, dtype='str')"
   ]
  },
  {
   "cell_type": "code",
   "execution_count": null,
   "metadata": {
    "collapsed": false,
    "scrolled": true
   },
   "outputs": [],
   "source": [
    "merged = pd.merge(raw_df, genre, how='left', on='프로그램장르')\n",
    "merged = pd.merge(merged, channel, how='left', on='채널')"
   ]
  },
  {
   "cell_type": "code",
   "execution_count": null,
   "metadata": {
    "collapsed": false
   },
   "outputs": [],
   "source": [
    "sub = merged.ix[:,['기간', '일자', '패널가구ID', '개인ID', '방송사', \\\n",
    "                   '시청시작시간', '시청종료시간', '프로그램시청시간', \\\n",
    "                   '프로그램명', '프로그램편성시작시간', '프로그램편성종료시간', '분류']].dropna(axis = 0)"
   ]
  },
  {
   "cell_type": "code",
   "execution_count": null,
   "metadata": {
    "collapsed": false
   },
   "outputs": [],
   "source": [
    "sub['반복'] = sub.groupby(['일자', '패널가구ID', '개인ID'])\\\n",
    "                        .시청시작시간.apply(lambda t: (t == t.shift(1)) | (t == t.shift(-1)))"
   ]
  },
  {
   "cell_type": "code",
   "execution_count": null,
   "metadata": {
    "collapsed": false,
    "scrolled": false
   },
   "outputs": [],
   "source": [
    "tidy_df = sub.sort_values(['일자', '패널가구ID', '개인ID', '시청시작시간'])"
   ]
  },
  {
   "cell_type": "code",
   "execution_count": null,
   "metadata": {
    "collapsed": false,
    "scrolled": true
   },
   "outputs": [],
   "source": [
    "tidy_df['시청시간'] = tidy_df.loc[:,['시청종료시간', '프로그램편성종료시간']].applymap(time_to_delta).min(axis=1) \\\n",
    "                    - tidy_df.loc[:,['시청시작시간', '프로그램편성시작시간']].applymap(time_to_delta).max(axis=1) \\\n",
    "                    + timedelta(seconds = 1)"
   ]
  },
  {
   "cell_type": "code",
   "execution_count": null,
   "metadata": {
    "collapsed": false,
    "scrolled": true
   },
   "outputs": [],
   "source": [
    "# tidy_df[tidy_df.시청시간.apply(timedelta.total_seconds) == tidy_df.프로그램시청시간.apply(int)]"
   ]
  },
  {
   "cell_type": "code",
   "execution_count": null,
   "metadata": {
    "collapsed": false
   },
   "outputs": [],
   "source": [
    "end = datetime.now()\n",
    "print(end-start)"
   ]
  },
  {
   "cell_type": "code",
   "execution_count": null,
   "metadata": {
    "collapsed": true
   },
   "outputs": [],
   "source": []
  }
 ],
 "metadata": {
  "kernelspec": {
   "display_name": "Python 3",
   "language": "python",
   "name": "python3"
  },
  "language_info": {
   "codemirror_mode": {
    "name": "ipython",
    "version": 3
   },
   "file_extension": ".py",
   "mimetype": "text/x-python",
   "name": "python",
   "nbconvert_exporter": "python",
   "pygments_lexer": "ipython3",
   "version": "3.5.2"
  }
 },
 "nbformat": 4,
 "nbformat_minor": 0
}
