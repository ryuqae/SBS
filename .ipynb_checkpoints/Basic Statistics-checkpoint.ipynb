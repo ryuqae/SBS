{
 "cells": [
  {
   "cell_type": "code",
   "execution_count": 339,
   "metadata": {
    "collapsed": false
   },
   "outputs": [
    {
     "data": {
      "application/javascript": [
       "IPython.notebook.set_autosave_interval(300000)"
      ]
     },
     "metadata": {},
     "output_type": "display_data"
    },
    {
     "name": "stdout",
     "output_type": "stream",
     "text": [
      "Autosaving every 300 seconds\n"
     ]
    }
   ],
   "source": [
    "%autosave 300\n",
    "# -*- coding: utf-8 -*-"
   ]
  },
  {
   "cell_type": "code",
   "execution_count": 340,
   "metadata": {
    "collapsed": false,
    "scrolled": true
   },
   "outputs": [],
   "source": [
    "import sys, os\n",
    "import pandas as pd\n",
    "import numpy as np\n",
    "from datetime import timedelta, datetime, time\n",
    "from timer import date_to_date, time_to_delta\n",
    "import matplotlib.pyplot as plt\n",
    "import matplotlib.font_manager as fm\n",
    "import matplotlib\n",
    "import random\n",
    "from functools import reduce\n",
    "matplotlib.style.use('ggplot')\n",
    "%matplotlib inline"
   ]
  },
  {
   "cell_type": "markdown",
   "metadata": {},
   "source": [
    "matplotlib 한글 폰트 설정"
   ]
  },
  {
   "cell_type": "code",
   "execution_count": 341,
   "metadata": {
    "collapsed": false
   },
   "outputs": [
    {
     "name": "stdout",
     "output_type": "stream",
     "text": [
      "/Users/RyuQae/anaconda/lib/python3.5/site-packages/matplotlib/mpl-data/matplotlibrc\n",
      "['NanumBarunGothicOTF']\n"
     ]
    }
   ],
   "source": [
    "# print(plt.style.available)\n",
    "print(matplotlib.matplotlib_fname())\n",
    "\n",
    "# font_location = \"C:Windows/Fonts/NanumBarunGothic.ttf\"\n",
    "font_location = \"/Users/RyuQae/Library/Fonts/NanumBarunGothic.otf\"\n",
    "font_name = fm.FontProperties(fname=font_location).get_name()\n",
    "matplotlib.rc('font', family=font_name)\n",
    "\n",
    "print(matplotlib.rcParams[\"font.family\"])"
   ]
  },
  {
   "cell_type": "code",
   "execution_count": 342,
   "metadata": {
    "collapsed": false
   },
   "outputs": [],
   "source": [
    "timer_start = datetime.now()"
   ]
  },
  {
   "cell_type": "code",
   "execution_count": 343,
   "metadata": {
    "collapsed": false
   },
   "outputs": [],
   "source": [
    "raw_df = pd.read_csv('output/tidy_data_with_demoinfo.csv',index_col=0)"
   ]
  },
  {
   "cell_type": "markdown",
   "metadata": {},
   "source": [
    "불러온 데이터프레임의 시간, 방송사, 시청시간 column 수정 및 요일 column 추가"
   ]
  },
  {
   "cell_type": "code",
   "execution_count": 344,
   "metadata": {
    "collapsed": false,
    "scrolled": false
   },
   "outputs": [],
   "source": [
    "time_columns = ['시청시작시간', '시청종료시간', '프로그램편성시작시간', '프로그램편성종료시간']\n",
    "raw_df.loc[:, time_columns] = raw_df.loc[:, time_columns].apply(pd.to_datetime)\n",
    "\n",
    "raw_df['시청시간'] = raw_df.loc[:,['시청종료시간', '프로그램편성종료시간']].min(axis=1) \\\n",
    "                    - raw_df.loc[:,['시청시작시간', '프로그램편성시작시간']].max(axis=1) \\\n",
    "                    + timedelta(seconds = 1)\n",
    "        \n",
    "raw_df.방송사 = raw_df.방송사.str.strip()\n",
    "raw_df.일자 = raw_df.일자.astype('str')\n",
    "weekday_name = [\"Mon\",\"Tue\",\"Wed\",\"Thu\",\"Fri\",\"Sat\",\"Sun\"]\n",
    "raw_df['요일'] = raw_df.일자.apply(date_to_date).apply(datetime.weekday).apply(lambda d: weekday_name[d])"
   ]
  },
  {
   "cell_type": "markdown",
   "metadata": {},
   "source": [
    "최종 버전의 raw_df를 tidy_df에 복사"
   ]
  },
  {
   "cell_type": "code",
   "execution_count": 345,
   "metadata": {
    "collapsed": true
   },
   "outputs": [],
   "source": [
    "tidy_df = raw_df.copy()"
   ]
  },
  {
   "cell_type": "code",
   "execution_count": 346,
   "metadata": {
    "collapsed": false,
    "scrolled": false
   },
   "outputs": [],
   "source": [
    "start = '17:00'\n",
    "end = '23:00'"
   ]
  },
  {
   "cell_type": "code",
   "execution_count": 347,
   "metadata": {
    "collapsed": false,
    "scrolled": false
   },
   "outputs": [
    {
     "name": "stdout",
     "output_type": "stream",
     "text": [
      "전체 방송사 수 : 107\n",
      "전체 시청자 수 : 5703\n"
     ]
    },
    {
     "data": {
      "text/html": [
       "<div>\n",
       "<table border=\"1\" class=\"dataframe\">\n",
       "  <thead>\n",
       "    <tr style=\"text-align: right;\">\n",
       "      <th></th>\n",
       "      <th>기간</th>\n",
       "      <th>패널 수</th>\n",
       "    </tr>\n",
       "  </thead>\n",
       "  <tbody>\n",
       "    <tr>\n",
       "      <th>0</th>\n",
       "      <td>T1</td>\n",
       "      <td>3935</td>\n",
       "    </tr>\n",
       "    <tr>\n",
       "      <th>1</th>\n",
       "      <td>T2</td>\n",
       "      <td>4060</td>\n",
       "    </tr>\n",
       "    <tr>\n",
       "      <th>2</th>\n",
       "      <td>T3</td>\n",
       "      <td>3991</td>\n",
       "    </tr>\n",
       "    <tr>\n",
       "      <th>3</th>\n",
       "      <td>T4</td>\n",
       "      <td>3907</td>\n",
       "    </tr>\n",
       "  </tbody>\n",
       "</table>\n",
       "</div>"
      ],
      "text/plain": [
       "   기간  패널 수\n",
       "0  T1  3935\n",
       "1  T2  4060\n",
       "2  T3  3991\n",
       "3  T4  3907"
      ]
     },
     "execution_count": 347,
     "metadata": {},
     "output_type": "execute_result"
    }
   ],
   "source": [
    "print(\"전체 방송사 수 : {0}\".format(len(set(tidy_df.방송사.values))))\n",
    "print(\"전체 시청자 수 : {0}\".format(len(set(tidy_df.ID.values))))\n",
    "tidy_df.groupby('기간').ID.apply(set).apply(lambda x: len(x)).reset_index(name = \"패널 수\")"
   ]
  },
  {
   "cell_type": "code",
   "execution_count": 440,
   "metadata": {
    "collapsed": false,
    "scrolled": true
   },
   "outputs": [
    {
     "data": {
      "text/plain": [
       "2806"
      ]
     },
     "execution_count": 440,
     "metadata": {},
     "output_type": "execute_result"
    }
   ],
   "source": [
    "ids = tidy_df.groupby('기간').ID.apply(set).reset_index('ID')\n",
    "len(list(reduce(set.intersection, ids.ID[:2])))"
   ]
  },
  {
   "cell_type": "code",
   "execution_count": 349,
   "metadata": {
    "collapsed": false
   },
   "outputs": [
    {
     "data": {
      "text/plain": [
       "<matplotlib.axes._subplots.AxesSubplot at 0x133909048>"
      ]
     },
     "execution_count": 349,
     "metadata": {},
     "output_type": "execute_result"
    },
    {
     "data": {
      "image/png": "[encoded data removed]",
      "text/plain": [
       "<matplotlib.figure.Figure at 0x12ffacef0>"
      ]
     },
     "metadata": {},
     "output_type": "display_data"
    }
   ],
   "source": [
    "tidy_df.groupby('ID').연령.apply(set).apply(list)\\\n",
    ".apply(lambda x: x[0]).plot(kind = 'hist', colormap = \"BuPu_r\", figsize = (8,8))"
   ]
  },
  {
   "cell_type": "code",
   "execution_count": 350,
   "metadata": {
    "collapsed": false
   },
   "outputs": [],
   "source": [
    "duration_by_cat = tidy_df.groupby('대분류').프로그램시청시간.apply(list).reset_index(name = \"시청시간\")"
   ]
  },
  {
   "cell_type": "code",
   "execution_count": 351,
   "metadata": {
    "collapsed": false
   },
   "outputs": [
    {
     "data": {
      "text/html": [
       "<div>\n",
       "<table border=\"1\" class=\"dataframe\">\n",
       "  <thead>\n",
       "    <tr style=\"text-align: right;\">\n",
       "      <th></th>\n",
       "      <th>대분류</th>\n",
       "      <th>시청시간</th>\n",
       "    </tr>\n",
       "  </thead>\n",
       "  <tbody>\n",
       "    <tr>\n",
       "      <th>0</th>\n",
       "      <td>교육</td>\n",
       "      <td>[60, 60, 20, 64, 60, 64, 449, 731, 60, 60, 20,...</td>\n",
       "    </tr>\n",
       "    <tr>\n",
       "      <th>1</th>\n",
       "      <td>기타</td>\n",
       "      <td>[1260, 480, 1518, 1518, 720, 60, 600, 480, 162...</td>\n",
       "    </tr>\n",
       "    <tr>\n",
       "      <th>2</th>\n",
       "      <td>드라마&amp;영화</td>\n",
       "      <td>[780, 60, 97, 180, 120, 720, 300, 300, 180, 18...</td>\n",
       "    </tr>\n",
       "    <tr>\n",
       "      <th>3</th>\n",
       "      <td>보도</td>\n",
       "      <td>[660, 60, 234, 197, 660, 120, 60, 120, 120, 18...</td>\n",
       "    </tr>\n",
       "    <tr>\n",
       "      <th>4</th>\n",
       "      <td>스포츠</td>\n",
       "      <td>[60, 60, 290, 3461, 120, 60, 60, 120, 120, 120...</td>\n",
       "    </tr>\n",
       "    <tr>\n",
       "      <th>5</th>\n",
       "      <td>어린이(유아)</td>\n",
       "      <td>[120, 960, 300, 180, 120, 60, 165, 945, 963, 6...</td>\n",
       "    </tr>\n",
       "    <tr>\n",
       "      <th>6</th>\n",
       "      <td>오락</td>\n",
       "      <td>[780, 180, 120, 60, 60, 120, 120, 120, 840, 42...</td>\n",
       "    </tr>\n",
       "    <tr>\n",
       "      <th>7</th>\n",
       "      <td>정보</td>\n",
       "      <td>[780, 883, 180, 180, 60, 120, 120, 178, 180, 1...</td>\n",
       "    </tr>\n",
       "  </tbody>\n",
       "</table>\n",
       "</div>"
      ],
      "text/plain": [
       "       대분류                                               시청시간\n",
       "0       교육  [60, 60, 20, 64, 60, 64, 449, 731, 60, 60, 20,...\n",
       "1       기타  [1260, 480, 1518, 1518, 720, 60, 600, 480, 162...\n",
       "2   드라마&영화  [780, 60, 97, 180, 120, 720, 300, 300, 180, 18...\n",
       "3       보도  [660, 60, 234, 197, 660, 120, 60, 120, 120, 18...\n",
       "4      스포츠  [60, 60, 290, 3461, 120, 60, 60, 120, 120, 120...\n",
       "5  어린이(유아)  [120, 960, 300, 180, 120, 60, 165, 945, 963, 6...\n",
       "6       오락  [780, 180, 120, 60, 60, 120, 120, 120, 840, 42...\n",
       "7       정보  [780, 883, 180, 180, 60, 120, 120, 178, 180, 1..."
      ]
     },
     "execution_count": 351,
     "metadata": {},
     "output_type": "execute_result"
    }
   ],
   "source": [
    "duration_by_cat"
   ]
  },
  {
   "cell_type": "code",
   "execution_count": 436,
   "metadata": {
    "collapsed": false
   },
   "outputs": [
    {
     "name": "stdout",
     "output_type": "stream",
     "text": [
      "835.306489292\n"
     ]
    },
    {
     "data": {
      "image/png": "[encoded data removed]",
      "text/plain": [
       "<matplotlib.figure.Figure at 0x136e2f7b8>"
      ]
     },
     "metadata": {},
     "output_type": "display_data"
    }
   ],
   "source": [
    "kat = duration_by_cat.시청시간[3]\n",
    "binwidth = 60\n",
    "plt.figure(figsize=(12,8))\n",
    "plt.hist(kat, bins = np.arange(0, 5000 + binwidth, binwidth))\n",
    "\n",
    "print(np.mean(kat))"
   ]
  },
  {
   "cell_type": "code",
   "execution_count": 437,
   "metadata": {
    "collapsed": false,
    "scrolled": true
   },
   "outputs": [
    {
     "data": {
      "text/html": [
       "<div>\n",
       "<table border=\"1\" class=\"dataframe\">\n",
       "  <thead>\n",
       "    <tr style=\"text-align: right;\">\n",
       "      <th></th>\n",
       "      <th>index</th>\n",
       "      <th>방송사</th>\n",
       "    </tr>\n",
       "  </thead>\n",
       "  <tbody>\n",
       "    <tr>\n",
       "      <th>0</th>\n",
       "      <td>KBS1</td>\n",
       "      <td>337100</td>\n",
       "    </tr>\n",
       "    <tr>\n",
       "      <th>1</th>\n",
       "      <td>MBC</td>\n",
       "      <td>298567</td>\n",
       "    </tr>\n",
       "    <tr>\n",
       "      <th>2</th>\n",
       "      <td>SBS</td>\n",
       "      <td>291599</td>\n",
       "    </tr>\n",
       "    <tr>\n",
       "      <th>3</th>\n",
       "      <td>KBS2</td>\n",
       "      <td>262552</td>\n",
       "    </tr>\n",
       "    <tr>\n",
       "      <th>4</th>\n",
       "      <td>MBN</td>\n",
       "      <td>140259</td>\n",
       "    </tr>\n",
       "    <tr>\n",
       "      <th>5</th>\n",
       "      <td>JTBC</td>\n",
       "      <td>119369</td>\n",
       "    </tr>\n",
       "    <tr>\n",
       "      <th>6</th>\n",
       "      <td>채널A</td>\n",
       "      <td>118593</td>\n",
       "    </tr>\n",
       "    <tr>\n",
       "      <th>7</th>\n",
       "      <td>TV조선</td>\n",
       "      <td>109880</td>\n",
       "    </tr>\n",
       "    <tr>\n",
       "      <th>8</th>\n",
       "      <td>tvN</td>\n",
       "      <td>98434</td>\n",
       "    </tr>\n",
       "    <tr>\n",
       "      <th>9</th>\n",
       "      <td>EBS</td>\n",
       "      <td>83381</td>\n",
       "    </tr>\n",
       "    <tr>\n",
       "      <th>10</th>\n",
       "      <td>YTN</td>\n",
       "      <td>73813</td>\n",
       "    </tr>\n",
       "    <tr>\n",
       "      <th>11</th>\n",
       "      <td>연합뉴스TV</td>\n",
       "      <td>70165</td>\n",
       "    </tr>\n",
       "  </tbody>\n",
       "</table>\n",
       "</div>"
      ],
      "text/plain": [
       "     index     방송사\n",
       "0     KBS1  337100\n",
       "1      MBC  298567\n",
       "2      SBS  291599\n",
       "3     KBS2  262552\n",
       "4      MBN  140259\n",
       "5     JTBC  119369\n",
       "6      채널A  118593\n",
       "7     TV조선  109880\n",
       "8      tvN   98434\n",
       "9      EBS   83381\n",
       "10     YTN   73813\n",
       "11  연합뉴스TV   70165"
      ]
     },
     "execution_count": 437,
     "metadata": {},
     "output_type": "execute_result"
    }
   ],
   "source": [
    "tidy_df.방송사.value_counts().reset_index().head(12)"
   ]
  },
  {
   "cell_type": "code",
   "execution_count": 354,
   "metadata": {
    "collapsed": false,
    "scrolled": false
   },
   "outputs": [
    {
     "data": {
      "image/png": "[encoded data removed]",
      "text/plain": [
       "<matplotlib.figure.Figure at 0x133bb8f28>"
      ]
     },
     "metadata": {},
     "output_type": "display_data"
    }
   ],
   "source": [
    "tidy_df.방송사.value_counts().head(20).\\\n",
    "plot(kind = 'bar', figsize = (10, 6), fontsize = 13, title = \"각 채널별 전체 시청기록 수(전체 기간)\", colormap = \"YlGnBu_r\");"
   ]
  },
  {
   "cell_type": "code",
   "execution_count": 355,
   "metadata": {
    "collapsed": false
   },
   "outputs": [
    {
     "data": {
      "image/png": "[encoded data removed]",
      "text/plain": [
       "<matplotlib.figure.Figure at 0x130cd6d30>"
      ]
     },
     "metadata": {},
     "output_type": "display_data"
    }
   ],
   "source": [
    "tidy_df.요일.value_counts().plot(kind = \"bar\", figsize = (8,6), fontsize = 15, title = \"요일별 시청기록 수\", colormap = \"RdBu_r\");"
   ]
  },
  {
   "cell_type": "code",
   "execution_count": 356,
   "metadata": {
    "collapsed": false,
    "scrolled": false
   },
   "outputs": [
    {
     "name": "stdout",
     "output_type": "stream",
     "text": [
      "68.51 %\n"
     ]
    }
   ],
   "source": [
    "ratio = tidy_df.방송사.value_counts().head(12).sum() / tidy_df.shape[0]\n",
    "print('%.2f' % (round(ratio, 5) * 100), '%')"
   ]
  },
  {
   "cell_type": "code",
   "execution_count": 357,
   "metadata": {
    "collapsed": false
   },
   "outputs": [
    {
     "data": {
      "image/png": "[encoded data removed]",
      "text/plain": [
       "<matplotlib.figure.Figure at 0x199565b38>"
      ]
     },
     "metadata": {},
     "output_type": "display_data"
    }
   ],
   "source": [
    "tidy_df.방송사.value_counts().head(12).plot(kind = \"pie\",\\\n",
    "                                         figsize = (8,8),\\\n",
    "                                         colormap = \"BuPu_r\",\\\n",
    "                                         fontsize = 14,\\\n",
    "                                         title = \"상위 12개 채널 시청기록 비율\");"
   ]
  },
  {
   "cell_type": "code",
   "execution_count": 358,
   "metadata": {
    "collapsed": false
   },
   "outputs": [],
   "source": [
    "target_channel = list(raw_df.방송사.value_counts().head(12).index)\n",
    "target_date = tidy_df.일자.unique()\n",
    "target_weekday =  tidy_df[~tidy_df.요일.isin(['Sat','Sun'])].일자.unique()"
   ]
  },
  {
   "cell_type": "markdown",
   "metadata": {},
   "source": [
    "각 채널별 분당 시청자 수를 count하는 함수"
   ]
  },
  {
   "cell_type": "code",
   "execution_count": 359,
   "metadata": {
    "collapsed": true
   },
   "outputs": [],
   "source": [
    "def visitors_count(date, target_channel=['KBS1', 'MBC', 'SBS', 'KBS2', 'MBN', 'JTBC']):\n",
    "    prime_start = '{0} {1}'.format(date, start)\n",
    "    prime_end = '{0} {1}'.format(date, end)\n",
    "    prime_time = pd.date_range(start = prime_start, end = prime_end, freq ='T')\n",
    "    daily = pd.DataFrame(index = prime_time)\n",
    "    # tidy_df는 외부에서 가져온 것이므로 수정 필요\n",
    "    grouped = tidy_df.groupby(['일자','방송사'])\n",
    "    for channel in target_channel:\n",
    "        enter_count = grouped.get_group((date, channel)).시청시작시간.value_counts()\n",
    "        exit_count = grouped.get_group((date, channel)).시청종료시간.value_counts()\n",
    "    \n",
    "        count = pd.concat([enter_count, exit_count], axis=1, keys=[\"enter\", \"exit\"])\n",
    "        count.fillna(0, inplace=True)\n",
    "        count[\"net_viewer\"] = count[\"enter\"] - count[\"exit\"]\n",
    "        \n",
    "        daily[channel] = count[\"net_viewer\"].resample(\"1min\").sum().fillna(0).cumsum()\n",
    "    \n",
    "    return pd.DataFrame(daily)"
   ]
  },
  {
   "cell_type": "markdown",
   "metadata": {},
   "source": [
    "target_date에 대한 각 채널별 분당 시청자 수"
   ]
  },
  {
   "cell_type": "code",
   "execution_count": 360,
   "metadata": {
    "collapsed": false,
    "scrolled": false
   },
   "outputs": [],
   "source": [
    "concat = pd.DataFrame()\n",
    "for date in target_date:\n",
    "    temp = visitors_count(date, target_channel)\n",
    "    concat = concat.append(temp)"
   ]
  },
  {
   "cell_type": "code",
   "execution_count": 506,
   "metadata": {
    "collapsed": false
   },
   "outputs": [
    {
     "name": "stdout",
     "output_type": "stream",
     "text": [
      "20150830\n"
     ]
    }
   ],
   "source": [
    "# someday = random.choice(target_weekday)\n",
    "# someday = target_weekday[0]\n",
    "someday = target_date[13]\n",
    "print(someday)\n",
    "daily_visitors = visitors_count(someday)"
   ]
  },
  {
   "cell_type": "code",
   "execution_count": 508,
   "metadata": {
    "collapsed": false
   },
   "outputs": [
    {
     "data": {
      "text/html": [
       "<div>\n",
       "<table border=\"1\" class=\"dataframe\">\n",
       "  <thead>\n",
       "    <tr style=\"text-align: right;\">\n",
       "      <th></th>\n",
       "      <th>KBS1</th>\n",
       "      <th>MBC</th>\n",
       "      <th>SBS</th>\n",
       "      <th>KBS2</th>\n",
       "      <th>MBN</th>\n",
       "      <th>JTBC</th>\n",
       "    </tr>\n",
       "  </thead>\n",
       "  <tbody>\n",
       "    <tr>\n",
       "      <th>2015-08-30 17:00:00</th>\n",
       "      <td>99.0</td>\n",
       "      <td>255.0</td>\n",
       "      <td>91.0</td>\n",
       "      <td>255.0</td>\n",
       "      <td>18.0</td>\n",
       "      <td>28.0</td>\n",
       "    </tr>\n",
       "    <tr>\n",
       "      <th>2015-08-30 17:01:00</th>\n",
       "      <td>106.0</td>\n",
       "      <td>257.0</td>\n",
       "      <td>92.0</td>\n",
       "      <td>266.0</td>\n",
       "      <td>18.0</td>\n",
       "      <td>29.0</td>\n",
       "    </tr>\n",
       "    <tr>\n",
       "      <th>2015-08-30 17:02:00</th>\n",
       "      <td>105.0</td>\n",
       "      <td>257.0</td>\n",
       "      <td>100.0</td>\n",
       "      <td>268.0</td>\n",
       "      <td>19.0</td>\n",
       "      <td>30.0</td>\n",
       "    </tr>\n",
       "    <tr>\n",
       "      <th>2015-08-30 17:03:00</th>\n",
       "      <td>108.0</td>\n",
       "      <td>268.0</td>\n",
       "      <td>99.0</td>\n",
       "      <td>267.0</td>\n",
       "      <td>16.0</td>\n",
       "      <td>27.0</td>\n",
       "    </tr>\n",
       "    <tr>\n",
       "      <th>2015-08-30 17:04:00</th>\n",
       "      <td>109.0</td>\n",
       "      <td>279.0</td>\n",
       "      <td>104.0</td>\n",
       "      <td>269.0</td>\n",
       "      <td>16.0</td>\n",
       "      <td>24.0</td>\n",
       "    </tr>\n",
       "    <tr>\n",
       "      <th>2015-08-30 17:05:00</th>\n",
       "      <td>109.0</td>\n",
       "      <td>294.0</td>\n",
       "      <td>103.0</td>\n",
       "      <td>265.0</td>\n",
       "      <td>16.0</td>\n",
       "      <td>28.0</td>\n",
       "    </tr>\n",
       "    <tr>\n",
       "      <th>2015-08-30 17:06:00</th>\n",
       "      <td>111.0</td>\n",
       "      <td>297.0</td>\n",
       "      <td>104.0</td>\n",
       "      <td>268.0</td>\n",
       "      <td>16.0</td>\n",
       "      <td>29.0</td>\n",
       "    </tr>\n",
       "    <tr>\n",
       "      <th>2015-08-30 17:07:00</th>\n",
       "      <td>108.0</td>\n",
       "      <td>300.0</td>\n",
       "      <td>103.0</td>\n",
       "      <td>270.0</td>\n",
       "      <td>17.0</td>\n",
       "      <td>28.0</td>\n",
       "    </tr>\n",
       "    <tr>\n",
       "      <th>2015-08-30 17:08:00</th>\n",
       "      <td>93.0</td>\n",
       "      <td>313.0</td>\n",
       "      <td>99.0</td>\n",
       "      <td>268.0</td>\n",
       "      <td>17.0</td>\n",
       "      <td>27.0</td>\n",
       "    </tr>\n",
       "    <tr>\n",
       "      <th>2015-08-30 17:09:00</th>\n",
       "      <td>90.0</td>\n",
       "      <td>332.0</td>\n",
       "      <td>99.0</td>\n",
       "      <td>278.0</td>\n",
       "      <td>17.0</td>\n",
       "      <td>26.0</td>\n",
       "    </tr>\n",
       "    <tr>\n",
       "      <th>2015-08-30 17:10:00</th>\n",
       "      <td>88.0</td>\n",
       "      <td>335.0</td>\n",
       "      <td>96.0</td>\n",
       "      <td>279.0</td>\n",
       "      <td>18.0</td>\n",
       "      <td>25.0</td>\n",
       "    </tr>\n",
       "    <tr>\n",
       "      <th>2015-08-30 17:11:00</th>\n",
       "      <td>85.0</td>\n",
       "      <td>340.0</td>\n",
       "      <td>99.0</td>\n",
       "      <td>286.0</td>\n",
       "      <td>19.0</td>\n",
       "      <td>27.0</td>\n",
       "    </tr>\n",
       "    <tr>\n",
       "      <th>2015-08-30 17:12:00</th>\n",
       "      <td>81.0</td>\n",
       "      <td>347.0</td>\n",
       "      <td>100.0</td>\n",
       "      <td>278.0</td>\n",
       "      <td>19.0</td>\n",
       "      <td>28.0</td>\n",
       "    </tr>\n",
       "    <tr>\n",
       "      <th>2015-08-30 17:13:00</th>\n",
       "      <td>81.0</td>\n",
       "      <td>344.0</td>\n",
       "      <td>103.0</td>\n",
       "      <td>284.0</td>\n",
       "      <td>20.0</td>\n",
       "      <td>25.0</td>\n",
       "    </tr>\n",
       "    <tr>\n",
       "      <th>2015-08-30 17:14:00</th>\n",
       "      <td>83.0</td>\n",
       "      <td>353.0</td>\n",
       "      <td>103.0</td>\n",
       "      <td>282.0</td>\n",
       "      <td>19.0</td>\n",
       "      <td>22.0</td>\n",
       "    </tr>\n",
       "    <tr>\n",
       "      <th>2015-08-30 17:15:00</th>\n",
       "      <td>84.0</td>\n",
       "      <td>355.0</td>\n",
       "      <td>100.0</td>\n",
       "      <td>283.0</td>\n",
       "      <td>20.0</td>\n",
       "      <td>22.0</td>\n",
       "    </tr>\n",
       "    <tr>\n",
       "      <th>2015-08-30 17:16:00</th>\n",
       "      <td>77.0</td>\n",
       "      <td>361.0</td>\n",
       "      <td>103.0</td>\n",
       "      <td>291.0</td>\n",
       "      <td>21.0</td>\n",
       "      <td>22.0</td>\n",
       "    </tr>\n",
       "    <tr>\n",
       "      <th>2015-08-30 17:17:00</th>\n",
       "      <td>71.0</td>\n",
       "      <td>363.0</td>\n",
       "      <td>95.0</td>\n",
       "      <td>287.0</td>\n",
       "      <td>24.0</td>\n",
       "      <td>19.0</td>\n",
       "    </tr>\n",
       "    <tr>\n",
       "      <th>2015-08-30 17:18:00</th>\n",
       "      <td>71.0</td>\n",
       "      <td>365.0</td>\n",
       "      <td>102.0</td>\n",
       "      <td>294.0</td>\n",
       "      <td>22.0</td>\n",
       "      <td>19.0</td>\n",
       "    </tr>\n",
       "    <tr>\n",
       "      <th>2015-08-30 17:19:00</th>\n",
       "      <td>69.0</td>\n",
       "      <td>384.0</td>\n",
       "      <td>99.0</td>\n",
       "      <td>293.0</td>\n",
       "      <td>23.0</td>\n",
       "      <td>21.0</td>\n",
       "    </tr>\n",
       "    <tr>\n",
       "      <th>2015-08-30 17:20:00</th>\n",
       "      <td>70.0</td>\n",
       "      <td>379.0</td>\n",
       "      <td>100.0</td>\n",
       "      <td>293.0</td>\n",
       "      <td>22.0</td>\n",
       "      <td>21.0</td>\n",
       "    </tr>\n",
       "    <tr>\n",
       "      <th>2015-08-30 17:21:00</th>\n",
       "      <td>69.0</td>\n",
       "      <td>377.0</td>\n",
       "      <td>103.0</td>\n",
       "      <td>301.0</td>\n",
       "      <td>22.0</td>\n",
       "      <td>22.0</td>\n",
       "    </tr>\n",
       "    <tr>\n",
       "      <th>2015-08-30 17:22:00</th>\n",
       "      <td>67.0</td>\n",
       "      <td>374.0</td>\n",
       "      <td>94.0</td>\n",
       "      <td>303.0</td>\n",
       "      <td>23.0</td>\n",
       "      <td>22.0</td>\n",
       "    </tr>\n",
       "    <tr>\n",
       "      <th>2015-08-30 17:23:00</th>\n",
       "      <td>65.0</td>\n",
       "      <td>391.0</td>\n",
       "      <td>99.0</td>\n",
       "      <td>306.0</td>\n",
       "      <td>24.0</td>\n",
       "      <td>21.0</td>\n",
       "    </tr>\n",
       "    <tr>\n",
       "      <th>2015-08-30 17:24:00</th>\n",
       "      <td>65.0</td>\n",
       "      <td>399.0</td>\n",
       "      <td>97.0</td>\n",
       "      <td>309.0</td>\n",
       "      <td>26.0</td>\n",
       "      <td>21.0</td>\n",
       "    </tr>\n",
       "    <tr>\n",
       "      <th>2015-08-30 17:25:00</th>\n",
       "      <td>64.0</td>\n",
       "      <td>397.0</td>\n",
       "      <td>98.0</td>\n",
       "      <td>304.0</td>\n",
       "      <td>25.0</td>\n",
       "      <td>20.0</td>\n",
       "    </tr>\n",
       "    <tr>\n",
       "      <th>2015-08-30 17:26:00</th>\n",
       "      <td>59.0</td>\n",
       "      <td>398.0</td>\n",
       "      <td>94.0</td>\n",
       "      <td>298.0</td>\n",
       "      <td>28.0</td>\n",
       "      <td>20.0</td>\n",
       "    </tr>\n",
       "    <tr>\n",
       "      <th>2015-08-30 17:27:00</th>\n",
       "      <td>59.0</td>\n",
       "      <td>396.0</td>\n",
       "      <td>99.0</td>\n",
       "      <td>298.0</td>\n",
       "      <td>24.0</td>\n",
       "      <td>19.0</td>\n",
       "    </tr>\n",
       "    <tr>\n",
       "      <th>2015-08-30 17:28:00</th>\n",
       "      <td>59.0</td>\n",
       "      <td>405.0</td>\n",
       "      <td>97.0</td>\n",
       "      <td>300.0</td>\n",
       "      <td>21.0</td>\n",
       "      <td>17.0</td>\n",
       "    </tr>\n",
       "    <tr>\n",
       "      <th>2015-08-30 17:29:00</th>\n",
       "      <td>52.0</td>\n",
       "      <td>410.0</td>\n",
       "      <td>97.0</td>\n",
       "      <td>301.0</td>\n",
       "      <td>20.0</td>\n",
       "      <td>19.0</td>\n",
       "    </tr>\n",
       "    <tr>\n",
       "      <th>...</th>\n",
       "      <td>...</td>\n",
       "      <td>...</td>\n",
       "      <td>...</td>\n",
       "      <td>...</td>\n",
       "      <td>...</td>\n",
       "      <td>...</td>\n",
       "    </tr>\n",
       "    <tr>\n",
       "      <th>2015-08-30 22:31:00</th>\n",
       "      <td>133.0</td>\n",
       "      <td>734.0</td>\n",
       "      <td>130.0</td>\n",
       "      <td>401.0</td>\n",
       "      <td>67.0</td>\n",
       "      <td>39.0</td>\n",
       "    </tr>\n",
       "    <tr>\n",
       "      <th>2015-08-30 22:32:00</th>\n",
       "      <td>130.0</td>\n",
       "      <td>730.0</td>\n",
       "      <td>134.0</td>\n",
       "      <td>380.0</td>\n",
       "      <td>72.0</td>\n",
       "      <td>39.0</td>\n",
       "    </tr>\n",
       "    <tr>\n",
       "      <th>2015-08-30 22:33:00</th>\n",
       "      <td>135.0</td>\n",
       "      <td>730.0</td>\n",
       "      <td>132.0</td>\n",
       "      <td>386.0</td>\n",
       "      <td>71.0</td>\n",
       "      <td>42.0</td>\n",
       "    </tr>\n",
       "    <tr>\n",
       "      <th>2015-08-30 22:34:00</th>\n",
       "      <td>134.0</td>\n",
       "      <td>729.0</td>\n",
       "      <td>136.0</td>\n",
       "      <td>390.0</td>\n",
       "      <td>68.0</td>\n",
       "      <td>41.0</td>\n",
       "    </tr>\n",
       "    <tr>\n",
       "      <th>2015-08-30 22:35:00</th>\n",
       "      <td>132.0</td>\n",
       "      <td>737.0</td>\n",
       "      <td>137.0</td>\n",
       "      <td>386.0</td>\n",
       "      <td>65.0</td>\n",
       "      <td>41.0</td>\n",
       "    </tr>\n",
       "    <tr>\n",
       "      <th>2015-08-30 22:36:00</th>\n",
       "      <td>135.0</td>\n",
       "      <td>742.0</td>\n",
       "      <td>135.0</td>\n",
       "      <td>389.0</td>\n",
       "      <td>65.0</td>\n",
       "      <td>42.0</td>\n",
       "    </tr>\n",
       "    <tr>\n",
       "      <th>2015-08-30 22:37:00</th>\n",
       "      <td>135.0</td>\n",
       "      <td>737.0</td>\n",
       "      <td>133.0</td>\n",
       "      <td>391.0</td>\n",
       "      <td>65.0</td>\n",
       "      <td>45.0</td>\n",
       "    </tr>\n",
       "    <tr>\n",
       "      <th>2015-08-30 22:38:00</th>\n",
       "      <td>141.0</td>\n",
       "      <td>736.0</td>\n",
       "      <td>132.0</td>\n",
       "      <td>273.0</td>\n",
       "      <td>63.0</td>\n",
       "      <td>45.0</td>\n",
       "    </tr>\n",
       "    <tr>\n",
       "      <th>2015-08-30 22:39:00</th>\n",
       "      <td>141.0</td>\n",
       "      <td>749.0</td>\n",
       "      <td>152.0</td>\n",
       "      <td>238.0</td>\n",
       "      <td>62.0</td>\n",
       "      <td>48.0</td>\n",
       "    </tr>\n",
       "    <tr>\n",
       "      <th>2015-08-30 22:40:00</th>\n",
       "      <td>117.0</td>\n",
       "      <td>766.0</td>\n",
       "      <td>153.0</td>\n",
       "      <td>219.0</td>\n",
       "      <td>62.0</td>\n",
       "      <td>50.0</td>\n",
       "    </tr>\n",
       "    <tr>\n",
       "      <th>2015-08-30 22:41:00</th>\n",
       "      <td>87.0</td>\n",
       "      <td>764.0</td>\n",
       "      <td>163.0</td>\n",
       "      <td>222.0</td>\n",
       "      <td>70.0</td>\n",
       "      <td>50.0</td>\n",
       "    </tr>\n",
       "    <tr>\n",
       "      <th>2015-08-30 22:42:00</th>\n",
       "      <td>82.0</td>\n",
       "      <td>774.0</td>\n",
       "      <td>170.0</td>\n",
       "      <td>198.0</td>\n",
       "      <td>70.0</td>\n",
       "      <td>57.0</td>\n",
       "    </tr>\n",
       "    <tr>\n",
       "      <th>2015-08-30 22:43:00</th>\n",
       "      <td>78.0</td>\n",
       "      <td>791.0</td>\n",
       "      <td>164.0</td>\n",
       "      <td>194.0</td>\n",
       "      <td>69.0</td>\n",
       "      <td>55.0</td>\n",
       "    </tr>\n",
       "    <tr>\n",
       "      <th>2015-08-30 22:44:00</th>\n",
       "      <td>83.0</td>\n",
       "      <td>784.0</td>\n",
       "      <td>160.0</td>\n",
       "      <td>187.0</td>\n",
       "      <td>72.0</td>\n",
       "      <td>63.0</td>\n",
       "    </tr>\n",
       "    <tr>\n",
       "      <th>2015-08-30 22:45:00</th>\n",
       "      <td>86.0</td>\n",
       "      <td>777.0</td>\n",
       "      <td>160.0</td>\n",
       "      <td>178.0</td>\n",
       "      <td>74.0</td>\n",
       "      <td>62.0</td>\n",
       "    </tr>\n",
       "    <tr>\n",
       "      <th>2015-08-30 22:46:00</th>\n",
       "      <td>101.0</td>\n",
       "      <td>775.0</td>\n",
       "      <td>167.0</td>\n",
       "      <td>171.0</td>\n",
       "      <td>79.0</td>\n",
       "      <td>67.0</td>\n",
       "    </tr>\n",
       "    <tr>\n",
       "      <th>2015-08-30 22:47:00</th>\n",
       "      <td>108.0</td>\n",
       "      <td>773.0</td>\n",
       "      <td>170.0</td>\n",
       "      <td>168.0</td>\n",
       "      <td>78.0</td>\n",
       "      <td>64.0</td>\n",
       "    </tr>\n",
       "    <tr>\n",
       "      <th>2015-08-30 22:48:00</th>\n",
       "      <td>111.0</td>\n",
       "      <td>780.0</td>\n",
       "      <td>162.0</td>\n",
       "      <td>168.0</td>\n",
       "      <td>78.0</td>\n",
       "      <td>65.0</td>\n",
       "    </tr>\n",
       "    <tr>\n",
       "      <th>2015-08-30 22:49:00</th>\n",
       "      <td>113.0</td>\n",
       "      <td>790.0</td>\n",
       "      <td>160.0</td>\n",
       "      <td>168.0</td>\n",
       "      <td>73.0</td>\n",
       "      <td>64.0</td>\n",
       "    </tr>\n",
       "    <tr>\n",
       "      <th>2015-08-30 22:50:00</th>\n",
       "      <td>111.0</td>\n",
       "      <td>788.0</td>\n",
       "      <td>161.0</td>\n",
       "      <td>164.0</td>\n",
       "      <td>70.0</td>\n",
       "      <td>47.0</td>\n",
       "    </tr>\n",
       "    <tr>\n",
       "      <th>2015-08-30 22:51:00</th>\n",
       "      <td>116.0</td>\n",
       "      <td>792.0</td>\n",
       "      <td>167.0</td>\n",
       "      <td>168.0</td>\n",
       "      <td>70.0</td>\n",
       "      <td>35.0</td>\n",
       "    </tr>\n",
       "    <tr>\n",
       "      <th>2015-08-30 22:52:00</th>\n",
       "      <td>112.0</td>\n",
       "      <td>797.0</td>\n",
       "      <td>165.0</td>\n",
       "      <td>166.0</td>\n",
       "      <td>77.0</td>\n",
       "      <td>31.0</td>\n",
       "    </tr>\n",
       "    <tr>\n",
       "      <th>2015-08-30 22:53:00</th>\n",
       "      <td>109.0</td>\n",
       "      <td>801.0</td>\n",
       "      <td>163.0</td>\n",
       "      <td>165.0</td>\n",
       "      <td>80.0</td>\n",
       "      <td>27.0</td>\n",
       "    </tr>\n",
       "    <tr>\n",
       "      <th>2015-08-30 22:54:00</th>\n",
       "      <td>105.0</td>\n",
       "      <td>801.0</td>\n",
       "      <td>164.0</td>\n",
       "      <td>160.0</td>\n",
       "      <td>60.0</td>\n",
       "      <td>24.0</td>\n",
       "    </tr>\n",
       "    <tr>\n",
       "      <th>2015-08-30 22:55:00</th>\n",
       "      <td>105.0</td>\n",
       "      <td>804.0</td>\n",
       "      <td>167.0</td>\n",
       "      <td>154.0</td>\n",
       "      <td>54.0</td>\n",
       "      <td>24.0</td>\n",
       "    </tr>\n",
       "    <tr>\n",
       "      <th>2015-08-30 22:56:00</th>\n",
       "      <td>109.0</td>\n",
       "      <td>815.0</td>\n",
       "      <td>168.0</td>\n",
       "      <td>159.0</td>\n",
       "      <td>51.0</td>\n",
       "      <td>23.0</td>\n",
       "    </tr>\n",
       "    <tr>\n",
       "      <th>2015-08-30 22:57:00</th>\n",
       "      <td>107.0</td>\n",
       "      <td>809.0</td>\n",
       "      <td>172.0</td>\n",
       "      <td>158.0</td>\n",
       "      <td>52.0</td>\n",
       "      <td>24.0</td>\n",
       "    </tr>\n",
       "    <tr>\n",
       "      <th>2015-08-30 22:58:00</th>\n",
       "      <td>106.0</td>\n",
       "      <td>807.0</td>\n",
       "      <td>168.0</td>\n",
       "      <td>158.0</td>\n",
       "      <td>51.0</td>\n",
       "      <td>24.0</td>\n",
       "    </tr>\n",
       "    <tr>\n",
       "      <th>2015-08-30 22:59:00</th>\n",
       "      <td>100.0</td>\n",
       "      <td>799.0</td>\n",
       "      <td>171.0</td>\n",
       "      <td>160.0</td>\n",
       "      <td>52.0</td>\n",
       "      <td>16.0</td>\n",
       "    </tr>\n",
       "    <tr>\n",
       "      <th>2015-08-30 23:00:00</th>\n",
       "      <td>99.0</td>\n",
       "      <td>793.0</td>\n",
       "      <td>168.0</td>\n",
       "      <td>166.0</td>\n",
       "      <td>53.0</td>\n",
       "      <td>16.0</td>\n",
       "    </tr>\n",
       "  </tbody>\n",
       "</table>\n",
       "<p>361 rows × 6 columns</p>\n",
       "</div>"
      ],
      "text/plain": [
       "                      KBS1    MBC    SBS   KBS2   MBN  JTBC\n",
       "2015-08-30 17:00:00   99.0  255.0   91.0  255.0  18.0  28.0\n",
       "2015-08-30 17:01:00  106.0  257.0   92.0  266.0  18.0  29.0\n",
       "2015-08-30 17:02:00  105.0  257.0  100.0  268.0  19.0  30.0\n",
       "2015-08-30 17:03:00  108.0  268.0   99.0  267.0  16.0  27.0\n",
       "2015-08-30 17:04:00  109.0  279.0  104.0  269.0  16.0  24.0\n",
       "2015-08-30 17:05:00  109.0  294.0  103.0  265.0  16.0  28.0\n",
       "2015-08-30 17:06:00  111.0  297.0  104.0  268.0  16.0  29.0\n",
       "2015-08-30 17:07:00  108.0  300.0  103.0  270.0  17.0  28.0\n",
       "2015-08-30 17:08:00   93.0  313.0   99.0  268.0  17.0  27.0\n",
       "2015-08-30 17:09:00   90.0  332.0   99.0  278.0  17.0  26.0\n",
       "2015-08-30 17:10:00   88.0  335.0   96.0  279.0  18.0  25.0\n",
       "2015-08-30 17:11:00   85.0  340.0   99.0  286.0  19.0  27.0\n",
       "2015-08-30 17:12:00   81.0  347.0  100.0  278.0  19.0  28.0\n",
       "2015-08-30 17:13:00   81.0  344.0  103.0  284.0  20.0  25.0\n",
       "2015-08-30 17:14:00   83.0  353.0  103.0  282.0  19.0  22.0\n",
       "2015-08-30 17:15:00   84.0  355.0  100.0  283.0  20.0  22.0\n",
       "2015-08-30 17:16:00   77.0  361.0  103.0  291.0  21.0  22.0\n",
       "2015-08-30 17:17:00   71.0  363.0   95.0  287.0  24.0  19.0\n",
       "2015-08-30 17:18:00   71.0  365.0  102.0  294.0  22.0  19.0\n",
       "2015-08-30 17:19:00   69.0  384.0   99.0  293.0  23.0  21.0\n",
       "2015-08-30 17:20:00   70.0  379.0  100.0  293.0  22.0  21.0\n",
       "2015-08-30 17:21:00   69.0  377.0  103.0  301.0  22.0  22.0\n",
       "2015-08-30 17:22:00   67.0  374.0   94.0  303.0  23.0  22.0\n",
       "2015-08-30 17:23:00   65.0  391.0   99.0  306.0  24.0  21.0\n",
       "2015-08-30 17:24:00   65.0  399.0   97.0  309.0  26.0  21.0\n",
       "2015-08-30 17:25:00   64.0  397.0   98.0  304.0  25.0  20.0\n",
       "2015-08-30 17:26:00   59.0  398.0   94.0  298.0  28.0  20.0\n",
       "2015-08-30 17:27:00   59.0  396.0   99.0  298.0  24.0  19.0\n",
       "2015-08-30 17:28:00   59.0  405.0   97.0  300.0  21.0  17.0\n",
       "2015-08-30 17:29:00   52.0  410.0   97.0  301.0  20.0  19.0\n",
       "...                    ...    ...    ...    ...   ...   ...\n",
       "2015-08-30 22:31:00  133.0  734.0  130.0  401.0  67.0  39.0\n",
       "2015-08-30 22:32:00  130.0  730.0  134.0  380.0  72.0  39.0\n",
       "2015-08-30 22:33:00  135.0  730.0  132.0  386.0  71.0  42.0\n",
       "2015-08-30 22:34:00  134.0  729.0  136.0  390.0  68.0  41.0\n",
       "2015-08-30 22:35:00  132.0  737.0  137.0  386.0  65.0  41.0\n",
       "2015-08-30 22:36:00  135.0  742.0  135.0  389.0  65.0  42.0\n",
       "2015-08-30 22:37:00  135.0  737.0  133.0  391.0  65.0  45.0\n",
       "2015-08-30 22:38:00  141.0  736.0  132.0  273.0  63.0  45.0\n",
       "2015-08-30 22:39:00  141.0  749.0  152.0  238.0  62.0  48.0\n",
       "2015-08-30 22:40:00  117.0  766.0  153.0  219.0  62.0  50.0\n",
       "2015-08-30 22:41:00   87.0  764.0  163.0  222.0  70.0  50.0\n",
       "2015-08-30 22:42:00   82.0  774.0  170.0  198.0  70.0  57.0\n",
       "2015-08-30 22:43:00   78.0  791.0  164.0  194.0  69.0  55.0\n",
       "2015-08-30 22:44:00   83.0  784.0  160.0  187.0  72.0  63.0\n",
       "2015-08-30 22:45:00   86.0  777.0  160.0  178.0  74.0  62.0\n",
       "2015-08-30 22:46:00  101.0  775.0  167.0  171.0  79.0  67.0\n",
       "2015-08-30 22:47:00  108.0  773.0  170.0  168.0  78.0  64.0\n",
       "2015-08-30 22:48:00  111.0  780.0  162.0  168.0  78.0  65.0\n",
       "2015-08-30 22:49:00  113.0  790.0  160.0  168.0  73.0  64.0\n",
       "2015-08-30 22:50:00  111.0  788.0  161.0  164.0  70.0  47.0\n",
       "2015-08-30 22:51:00  116.0  792.0  167.0  168.0  70.0  35.0\n",
       "2015-08-30 22:52:00  112.0  797.0  165.0  166.0  77.0  31.0\n",
       "2015-08-30 22:53:00  109.0  801.0  163.0  165.0  80.0  27.0\n",
       "2015-08-30 22:54:00  105.0  801.0  164.0  160.0  60.0  24.0\n",
       "2015-08-30 22:55:00  105.0  804.0  167.0  154.0  54.0  24.0\n",
       "2015-08-30 22:56:00  109.0  815.0  168.0  159.0  51.0  23.0\n",
       "2015-08-30 22:57:00  107.0  809.0  172.0  158.0  52.0  24.0\n",
       "2015-08-30 22:58:00  106.0  807.0  168.0  158.0  51.0  24.0\n",
       "2015-08-30 22:59:00  100.0  799.0  171.0  160.0  52.0  16.0\n",
       "2015-08-30 23:00:00   99.0  793.0  168.0  166.0  53.0  16.0\n",
       "\n",
       "[361 rows x 6 columns]"
      ]
     },
     "execution_count": 508,
     "metadata": {},
     "output_type": "execute_result"
    }
   ],
   "source": []
  },
  {
   "cell_type": "code",
   "execution_count": 507,
   "metadata": {
    "collapsed": false,
    "scrolled": false
   },
   "outputs": [
    {
     "data": {
      "image/png": "[encoded data removed]",
      "text/plain": [
       "<matplotlib.figure.Figure at 0x119d14b70>"
      ]
     },
     "metadata": {},
     "output_type": "display_data"
    }
   ],
   "source": [
    "# daily_visitors.plot(subplots=True, figsize=(12, 24));\n",
    "daily_visitors.plot(subplots=True, layout=(2, 3), figsize=(30, 15), fontsize = 20, legend = False,\\\n",
    "                    kind = 'area', sharex=False, sharey=True, \\\n",
    "                    title='{0} {1}'.format(someday, weekday_name[datetime.weekday(date_to_date(someday))]));"
   ]
  },
  {
   "cell_type": "code",
   "execution_count": 363,
   "metadata": {
    "collapsed": false
   },
   "outputs": [
    {
     "data": {
      "text/plain": [
       "<matplotlib.axes._subplots.AxesSubplot at 0x14295ddd8>"
      ]
     },
     "execution_count": 363,
     "metadata": {},
     "output_type": "execute_result"
    },
    {
     "data": {
      "image/png": "[encoded data removed]",
      "text/plain": [
       "<matplotlib.figure.Figure at 0x142910080>"
      ]
     },
     "metadata": {},
     "output_type": "display_data"
    }
   ],
   "source": [
    "daily_visitors.plot(kind = 'area', figsize = (12, 8), \\\n",
    "                    colormap = 'Reds',fontsize = 15, \\\n",
    "                    title='{0} {1}'.format(someday, weekday_name[datetime.weekday(date_to_date(someday))]));\n",
    "# df.plot(subplots=True, layout=(2, 3), figsize=(6, 6), sharex=False);"
   ]
  },
  {
   "cell_type": "code",
   "execution_count": 364,
   "metadata": {
    "collapsed": true
   },
   "outputs": [],
   "source": [
    "# concat.head(10)"
   ]
  },
  {
   "cell_type": "markdown",
   "metadata": {},
   "source": [
    "# 편성표 만들기"
   ]
  },
  {
   "cell_type": "code",
   "execution_count": 365,
   "metadata": {
    "collapsed": false
   },
   "outputs": [],
   "source": [
    "schedule = tidy_df.loc[:,['일자', '요일', '방송사', '프로그램명', '프로그램편성시작시간','프로그램편성종료시간', '대분류']].drop_duplicates().copy()"
   ]
  },
  {
   "cell_type": "code",
   "execution_count": 366,
   "metadata": {
    "collapsed": false
   },
   "outputs": [],
   "source": [
    "schedule = schedule.sort_values(['일자', '방송사', '프로그램편성시작시간'])"
   ]
  },
  {
   "cell_type": "code",
   "execution_count": 367,
   "metadata": {
    "collapsed": false,
    "scrolled": false
   },
   "outputs": [],
   "source": [
    "target_schedule = schedule.loc[schedule.방송사.isin(target_channel)].copy()"
   ]
  },
  {
   "cell_type": "code",
   "execution_count": 518,
   "metadata": {
    "collapsed": false
   },
   "outputs": [
    {
     "data": {
      "text/html": [
       "<div>\n",
       "<table border=\"1\" class=\"dataframe\">\n",
       "  <thead>\n",
       "    <tr style=\"text-align: right;\">\n",
       "      <th></th>\n",
       "      <th>일자</th>\n",
       "      <th>요일</th>\n",
       "      <th>방송사</th>\n",
       "      <th>프로그램명</th>\n",
       "      <th>프로그램편성시작시간</th>\n",
       "      <th>프로그램편성종료시간</th>\n",
       "      <th>대분류</th>\n",
       "    </tr>\n",
       "  </thead>\n",
       "  <tbody>\n",
       "    <tr>\n",
       "      <th>3743</th>\n",
       "      <td>20150817</td>\n",
       "      <td>Mon</td>\n",
       "      <td>SBS</td>\n",
       "      <td>네트워크특선</td>\n",
       "      <td>2015-08-17 02:00:00</td>\n",
       "      <td>2015-08-17 02:13:42</td>\n",
       "      <td>정보</td>\n",
       "    </tr>\n",
       "    <tr>\n",
       "      <th>16286</th>\n",
       "      <td>20150817</td>\n",
       "      <td>Mon</td>\n",
       "      <td>SBS</td>\n",
       "      <td>SBS5뉴스</td>\n",
       "      <td>2015-08-17 05:00:00</td>\n",
       "      <td>2015-08-17 05:07:39</td>\n",
       "      <td>보도</td>\n",
       "    </tr>\n",
       "    <tr>\n",
       "      <th>2791</th>\n",
       "      <td>20150817</td>\n",
       "      <td>Mon</td>\n",
       "      <td>SBS</td>\n",
       "      <td>SBS특선다큐(어떤동네에살고싶으세요)</td>\n",
       "      <td>2015-08-17 05:12:05</td>\n",
       "      <td>2015-08-17 05:56:39</td>\n",
       "      <td>정보</td>\n",
       "    </tr>\n",
       "    <tr>\n",
       "      <th>6881</th>\n",
       "      <td>20150817</td>\n",
       "      <td>Mon</td>\n",
       "      <td>SBS</td>\n",
       "      <td>모닝와이드1부</td>\n",
       "      <td>2015-08-17 05:59:38</td>\n",
       "      <td>2015-08-17 06:21:39</td>\n",
       "      <td>정보</td>\n",
       "    </tr>\n",
       "    <tr>\n",
       "      <th>529</th>\n",
       "      <td>20150817</td>\n",
       "      <td>Mon</td>\n",
       "      <td>SBS</td>\n",
       "      <td>모닝와이드2부</td>\n",
       "      <td>2015-08-17 06:23:37</td>\n",
       "      <td>2015-08-17 07:28:28</td>\n",
       "      <td>정보</td>\n",
       "    </tr>\n",
       "    <tr>\n",
       "      <th>553</th>\n",
       "      <td>20150817</td>\n",
       "      <td>Mon</td>\n",
       "      <td>SBS</td>\n",
       "      <td>모닝와이드3부</td>\n",
       "      <td>2015-08-17 07:30:11</td>\n",
       "      <td>2015-08-17 08:23:32</td>\n",
       "      <td>정보</td>\n",
       "    </tr>\n",
       "    <tr>\n",
       "      <th>552</th>\n",
       "      <td>20150817</td>\n",
       "      <td>Mon</td>\n",
       "      <td>SBS</td>\n",
       "      <td>아침연속극(어머님은내며느리)</td>\n",
       "      <td>2015-08-17 08:27:37</td>\n",
       "      <td>2015-08-17 09:07:59</td>\n",
       "      <td>드라마&amp;영화</td>\n",
       "    </tr>\n",
       "    <tr>\n",
       "      <th>2579</th>\n",
       "      <td>20150817</td>\n",
       "      <td>Mon</td>\n",
       "      <td>SBS</td>\n",
       "      <td>좋은아침</td>\n",
       "      <td>2015-08-17 09:11:01</td>\n",
       "      <td>2015-08-17 09:57:28</td>\n",
       "      <td>오락</td>\n",
       "    </tr>\n",
       "    <tr>\n",
       "      <th>1562</th>\n",
       "      <td>20150817</td>\n",
       "      <td>Mon</td>\n",
       "      <td>SBS</td>\n",
       "      <td>SBS뉴스(10:00)</td>\n",
       "      <td>2015-08-17 10:00:20</td>\n",
       "      <td>2015-08-17 10:26:58</td>\n",
       "      <td>보도</td>\n",
       "    </tr>\n",
       "    <tr>\n",
       "      <th>438</th>\n",
       "      <td>20150817</td>\n",
       "      <td>Mon</td>\n",
       "      <td>SBS</td>\n",
       "      <td>SBS생활경제</td>\n",
       "      <td>2015-08-17 10:29:44</td>\n",
       "      <td>2015-08-17 11:22:43</td>\n",
       "      <td>보도</td>\n",
       "    </tr>\n",
       "    <tr>\n",
       "      <th>2583</th>\n",
       "      <td>20150817</td>\n",
       "      <td>Mon</td>\n",
       "      <td>SBS</td>\n",
       "      <td>접속무비월드스페셜</td>\n",
       "      <td>2015-08-17 11:26:33</td>\n",
       "      <td>2015-08-17 11:52:43</td>\n",
       "      <td>오락</td>\n",
       "    </tr>\n",
       "    <tr>\n",
       "      <th>1757</th>\n",
       "      <td>20150817</td>\n",
       "      <td>Mon</td>\n",
       "      <td>SBS</td>\n",
       "      <td>SBS12뉴스</td>\n",
       "      <td>2015-08-17 11:57:19</td>\n",
       "      <td>2015-08-17 12:40:20</td>\n",
       "      <td>보도</td>\n",
       "    </tr>\n",
       "    <tr>\n",
       "      <th>1470</th>\n",
       "      <td>20150817</td>\n",
       "      <td>Mon</td>\n",
       "      <td>SBS</td>\n",
       "      <td>순간포착세상에이런일이스페셜</td>\n",
       "      <td>2015-08-17 12:43:16</td>\n",
       "      <td>2015-08-17 13:53:12</td>\n",
       "      <td>정보</td>\n",
       "    </tr>\n",
       "    <tr>\n",
       "      <th>2584</th>\n",
       "      <td>20150817</td>\n",
       "      <td>Mon</td>\n",
       "      <td>SBS</td>\n",
       "      <td>네트워크현장고향이보인다</td>\n",
       "      <td>2015-08-17 13:56:32</td>\n",
       "      <td>2015-08-17 14:50:10</td>\n",
       "      <td>정보</td>\n",
       "    </tr>\n",
       "    <tr>\n",
       "      <th>804</th>\n",
       "      <td>20150817</td>\n",
       "      <td>Mon</td>\n",
       "      <td>SBS</td>\n",
       "      <td>SBS뉴스(15:00)</td>\n",
       "      <td>2015-08-17 14:53:45</td>\n",
       "      <td>2015-08-17 15:03:17</td>\n",
       "      <td>보도</td>\n",
       "    </tr>\n",
       "    <tr>\n",
       "      <th>2253</th>\n",
       "      <td>20150817</td>\n",
       "      <td>Mon</td>\n",
       "      <td>SBS</td>\n",
       "      <td>잘먹고잘사는법식사하셨어요&lt;재&gt;</td>\n",
       "      <td>2015-08-17 15:06:25</td>\n",
       "      <td>2015-08-17 15:56:08</td>\n",
       "      <td>정보</td>\n",
       "    </tr>\n",
       "    <tr>\n",
       "      <th>2587</th>\n",
       "      <td>20150817</td>\n",
       "      <td>Mon</td>\n",
       "      <td>SBS</td>\n",
       "      <td>꾸러기탐구생활스페셜</td>\n",
       "      <td>2015-08-17 15:59:47</td>\n",
       "      <td>2015-08-17 16:25:17</td>\n",
       "      <td>어린이(유아)</td>\n",
       "    </tr>\n",
       "    <tr>\n",
       "      <th>805</th>\n",
       "      <td>20150817</td>\n",
       "      <td>Mon</td>\n",
       "      <td>SBS</td>\n",
       "      <td>내마음의크레파스</td>\n",
       "      <td>2015-08-17 16:27:55</td>\n",
       "      <td>2015-08-17 16:53:35</td>\n",
       "      <td>정보</td>\n",
       "    </tr>\n",
       "    <tr>\n",
       "      <th>2514</th>\n",
       "      <td>20150817</td>\n",
       "      <td>Mon</td>\n",
       "      <td>SBS</td>\n",
       "      <td>SBS뉴스퍼레이드</td>\n",
       "      <td>2015-08-17 16:57:24</td>\n",
       "      <td>2015-08-17 17:26:49</td>\n",
       "      <td>보도</td>\n",
       "    </tr>\n",
       "    <tr>\n",
       "      <th>3106</th>\n",
       "      <td>20150817</td>\n",
       "      <td>Mon</td>\n",
       "      <td>SBS</td>\n",
       "      <td>만화왕국(꿈의라이브프리즘스톤)</td>\n",
       "      <td>2015-08-17 17:30:15</td>\n",
       "      <td>2015-08-17 17:55:38</td>\n",
       "      <td>어린이(유아)</td>\n",
       "    </tr>\n",
       "    <tr>\n",
       "      <th>407</th>\n",
       "      <td>20150817</td>\n",
       "      <td>Mon</td>\n",
       "      <td>SBS</td>\n",
       "      <td>생방송투데이</td>\n",
       "      <td>2015-08-17 17:59:48</td>\n",
       "      <td>2015-08-17 19:08:38</td>\n",
       "      <td>정보</td>\n",
       "    </tr>\n",
       "    <tr>\n",
       "      <th>1760</th>\n",
       "      <td>20150817</td>\n",
       "      <td>Mon</td>\n",
       "      <td>SBS</td>\n",
       "      <td>일일드라마(돌아온황금복)</td>\n",
       "      <td>2015-08-17 19:11:42</td>\n",
       "      <td>2015-08-17 19:50:10</td>\n",
       "      <td>드라마&amp;영화</td>\n",
       "    </tr>\n",
       "    <tr>\n",
       "      <th>409</th>\n",
       "      <td>20150817</td>\n",
       "      <td>Mon</td>\n",
       "      <td>SBS</td>\n",
       "      <td>SBS8뉴스</td>\n",
       "      <td>2015-08-17 19:53:43</td>\n",
       "      <td>2015-08-17 20:51:12</td>\n",
       "      <td>보도</td>\n",
       "    </tr>\n",
       "    <tr>\n",
       "      <th>249</th>\n",
       "      <td>20150817</td>\n",
       "      <td>Mon</td>\n",
       "      <td>SBS</td>\n",
       "      <td>생활의달인</td>\n",
       "      <td>2015-08-17 20:55:26</td>\n",
       "      <td>2015-08-17 21:55:22</td>\n",
       "      <td>정보</td>\n",
       "    </tr>\n",
       "    <tr>\n",
       "      <th>250</th>\n",
       "      <td>20150817</td>\n",
       "      <td>Mon</td>\n",
       "      <td>SBS</td>\n",
       "      <td>SBS월화드라마(미세스캅)</td>\n",
       "      <td>2015-08-17 21:59:22</td>\n",
       "      <td>2015-08-17 23:05:39</td>\n",
       "      <td>드라마&amp;영화</td>\n",
       "    </tr>\n",
       "    <tr>\n",
       "      <th>251</th>\n",
       "      <td>20150817</td>\n",
       "      <td>Mon</td>\n",
       "      <td>SBS</td>\n",
       "      <td>힐링캠프500인</td>\n",
       "      <td>2015-08-17 23:08:41</td>\n",
       "      <td>2015-08-18 00:25:03</td>\n",
       "      <td>오락</td>\n",
       "    </tr>\n",
       "    <tr>\n",
       "      <th>397</th>\n",
       "      <td>20150817</td>\n",
       "      <td>Mon</td>\n",
       "      <td>SBS</td>\n",
       "      <td>SBS나이트라인</td>\n",
       "      <td>2015-08-18 00:28:39</td>\n",
       "      <td>2015-08-18 00:53:45</td>\n",
       "      <td>보도</td>\n",
       "    </tr>\n",
       "    <tr>\n",
       "      <th>569</th>\n",
       "      <td>20150817</td>\n",
       "      <td>Mon</td>\n",
       "      <td>SBS</td>\n",
       "      <td>SBS골프</td>\n",
       "      <td>2015-08-18 00:56:46</td>\n",
       "      <td>2015-08-18 01:54:57</td>\n",
       "      <td>스포츠</td>\n",
       "    </tr>\n",
       "    <tr>\n",
       "      <th>12780</th>\n",
       "      <td>20150817</td>\n",
       "      <td>Mon</td>\n",
       "      <td>SBS</td>\n",
       "      <td>프로야구중계석</td>\n",
       "      <td>2015-08-18 01:57:02</td>\n",
       "      <td>2015-08-18 01:59:59</td>\n",
       "      <td>스포츠</td>\n",
       "    </tr>\n",
       "  </tbody>\n",
       "</table>\n",
       "</div>"
      ],
      "text/plain": [
       "             일자   요일  방송사                 프로그램명          프로그램편성시작시간  \\\n",
       "3743   20150817  Mon  SBS                네트워크특선 2015-08-17 02:00:00   \n",
       "16286  20150817  Mon  SBS                SBS5뉴스 2015-08-17 05:00:00   \n",
       "2791   20150817  Mon  SBS  SBS특선다큐(어떤동네에살고싶으세요) 2015-08-17 05:12:05   \n",
       "6881   20150817  Mon  SBS               모닝와이드1부 2015-08-17 05:59:38   \n",
       "529    20150817  Mon  SBS               모닝와이드2부 2015-08-17 06:23:37   \n",
       "553    20150817  Mon  SBS               모닝와이드3부 2015-08-17 07:30:11   \n",
       "552    20150817  Mon  SBS       아침연속극(어머님은내며느리) 2015-08-17 08:27:37   \n",
       "2579   20150817  Mon  SBS                  좋은아침 2015-08-17 09:11:01   \n",
       "1562   20150817  Mon  SBS          SBS뉴스(10:00) 2015-08-17 10:00:20   \n",
       "438    20150817  Mon  SBS               SBS생활경제 2015-08-17 10:29:44   \n",
       "2583   20150817  Mon  SBS             접속무비월드스페셜 2015-08-17 11:26:33   \n",
       "1757   20150817  Mon  SBS               SBS12뉴스 2015-08-17 11:57:19   \n",
       "1470   20150817  Mon  SBS        순간포착세상에이런일이스페셜 2015-08-17 12:43:16   \n",
       "2584   20150817  Mon  SBS          네트워크현장고향이보인다 2015-08-17 13:56:32   \n",
       "804    20150817  Mon  SBS          SBS뉴스(15:00) 2015-08-17 14:53:45   \n",
       "2253   20150817  Mon  SBS      잘먹고잘사는법식사하셨어요<재> 2015-08-17 15:06:25   \n",
       "2587   20150817  Mon  SBS            꾸러기탐구생활스페셜 2015-08-17 15:59:47   \n",
       "805    20150817  Mon  SBS              내마음의크레파스 2015-08-17 16:27:55   \n",
       "2514   20150817  Mon  SBS             SBS뉴스퍼레이드 2015-08-17 16:57:24   \n",
       "3106   20150817  Mon  SBS      만화왕국(꿈의라이브프리즘스톤) 2015-08-17 17:30:15   \n",
       "407    20150817  Mon  SBS                생방송투데이 2015-08-17 17:59:48   \n",
       "1760   20150817  Mon  SBS         일일드라마(돌아온황금복) 2015-08-17 19:11:42   \n",
       "409    20150817  Mon  SBS                SBS8뉴스 2015-08-17 19:53:43   \n",
       "249    20150817  Mon  SBS                 생활의달인 2015-08-17 20:55:26   \n",
       "250    20150817  Mon  SBS        SBS월화드라마(미세스캅) 2015-08-17 21:59:22   \n",
       "251    20150817  Mon  SBS              힐링캠프500인 2015-08-17 23:08:41   \n",
       "397    20150817  Mon  SBS              SBS나이트라인 2015-08-18 00:28:39   \n",
       "569    20150817  Mon  SBS                 SBS골프 2015-08-18 00:56:46   \n",
       "12780  20150817  Mon  SBS               프로야구중계석 2015-08-18 01:57:02   \n",
       "\n",
       "               프로그램편성종료시간      대분류  \n",
       "3743  2015-08-17 02:13:42       정보  \n",
       "16286 2015-08-17 05:07:39       보도  \n",
       "2791  2015-08-17 05:56:39       정보  \n",
       "6881  2015-08-17 06:21:39       정보  \n",
       "529   2015-08-17 07:28:28       정보  \n",
       "553   2015-08-17 08:23:32       정보  \n",
       "552   2015-08-17 09:07:59   드라마&영화  \n",
       "2579  2015-08-17 09:57:28       오락  \n",
       "1562  2015-08-17 10:26:58       보도  \n",
       "438   2015-08-17 11:22:43       보도  \n",
       "2583  2015-08-17 11:52:43       오락  \n",
       "1757  2015-08-17 12:40:20       보도  \n",
       "1470  2015-08-17 13:53:12       정보  \n",
       "2584  2015-08-17 14:50:10       정보  \n",
       "804   2015-08-17 15:03:17       보도  \n",
       "2253  2015-08-17 15:56:08       정보  \n",
       "2587  2015-08-17 16:25:17  어린이(유아)  \n",
       "805   2015-08-17 16:53:35       정보  \n",
       "2514  2015-08-17 17:26:49       보도  \n",
       "3106  2015-08-17 17:55:38  어린이(유아)  \n",
       "407   2015-08-17 19:08:38       정보  \n",
       "1760  2015-08-17 19:50:10   드라마&영화  \n",
       "409   2015-08-17 20:51:12       보도  \n",
       "249   2015-08-17 21:55:22       정보  \n",
       "250   2015-08-17 23:05:39   드라마&영화  \n",
       "251   2015-08-18 00:25:03       오락  \n",
       "397   2015-08-18 00:53:45       보도  \n",
       "569   2015-08-18 01:54:57      스포츠  \n",
       "12780 2015-08-18 01:59:59      스포츠  "
      ]
     },
     "execution_count": 518,
     "metadata": {},
     "output_type": "execute_result"
    }
   ],
   "source": [
    "target_schedule[(target_schedule.일자 == '20150817') & (target_schedule.방송사 == 'SBS')]"
   ]
  },
  {
   "cell_type": "markdown",
   "metadata": {},
   "source": [
    "# SBS8뉴스 기준 전후 인접효과 분석"
   ]
  },
  {
   "cell_type": "markdown",
   "metadata": {},
   "source": [
    "#### news_viewer : someday에 SBS8뉴스 1분 초과 시청자 list"
   ]
  },
  {
   "cell_type": "code",
   "execution_count": 368,
   "metadata": {
    "collapsed": false,
    "scrolled": false
   },
   "outputs": [
    {
     "name": "stdout",
     "output_type": "stream",
     "text": [
      "20160822 SBS8뉴스 시청자 수 : 365명\n"
     ]
    }
   ],
   "source": [
    "news_viewer = tidy_df[(tidy_df.일자 == someday) & \\\n",
    "                      (tidy_df.프로그램명.str.contains('SBS8뉴스')) & \\\n",
    "                      (tidy_df.프로그램시청시간 > 60)].ID.unique()\n",
    "print('{0} SBS8뉴스 시청자 수 : {1}명'.format(someday, len(news_viewer)))"
   ]
  },
  {
   "cell_type": "markdown",
   "metadata": {},
   "source": [
    "#### news_viewer_df : someday에 news_viewer의 전체 시청기록 dataframe"
   ]
  },
  {
   "cell_type": "code",
   "execution_count": 369,
   "metadata": {
    "collapsed": false,
    "scrolled": true
   },
   "outputs": [],
   "source": [
    "news_viewer_df = tidy_df[(tidy_df.일자 == someday) & tidy_df.ID.isin(news_viewer)]\\\n",
    ".loc[:,['ID', '방송사', '시청시작시간', '시청종료시간','프로그램시청시간',\\\n",
    "        '프로그램편성시작시간', '프로그램편성종료시간', '프로그램명', '반복']]\\\n",
    ".sort_values(['ID', '시청시작시간', '프로그램편성시작시간']).copy()"
   ]
  },
  {
   "cell_type": "markdown",
   "metadata": {},
   "source": [
    "#### someday의 SBS 편성 "
   ]
  },
  {
   "cell_type": "code",
   "execution_count": 370,
   "metadata": {
    "collapsed": false
   },
   "outputs": [],
   "source": [
    "SBS_schedule = target_schedule[(target_schedule.일자 == someday) & (target_schedule.방송사 == 'SBS')].copy()"
   ]
  },
  {
   "cell_type": "code",
   "execution_count": 371,
   "metadata": {
    "collapsed": false
   },
   "outputs": [
    {
     "name": "stdout",
     "output_type": "stream",
     "text": [
      "20160822 SBS8뉴스 직전 프로그램 : 일일드라마(당신은선물)\n"
     ]
    }
   ],
   "source": [
    "# set(SBS_schedule[(SBS_schedule.프로그램명.shift(-1) == 'SBS8뉴스') | (SBS_schedule.프로그램명.shift(1) == 'SBS8뉴스')].프로그램명)\n",
    "drama = SBS_schedule.loc[(SBS_schedule.프로그램명.shift(-1) == 'SBS8뉴스')].프로그램명.iloc[0]\n",
    "print('{0} SBS8뉴스 직전 프로그램 : {1}'.format(someday, drama))"
   ]
  },
  {
   "cell_type": "code",
   "execution_count": 372,
   "metadata": {
    "collapsed": false
   },
   "outputs": [
    {
     "data": {
      "text/html": [
       "<div>\n",
       "<table border=\"1\" class=\"dataframe\">\n",
       "  <thead>\n",
       "    <tr style=\"text-align: right;\">\n",
       "      <th></th>\n",
       "      <th>일자</th>\n",
       "      <th>요일</th>\n",
       "      <th>방송사</th>\n",
       "      <th>프로그램명</th>\n",
       "      <th>프로그램편성시작시간</th>\n",
       "      <th>프로그램편성종료시간</th>\n",
       "      <th>대분류</th>\n",
       "    </tr>\n",
       "  </thead>\n",
       "  <tbody>\n",
       "    <tr>\n",
       "      <th>909032</th>\n",
       "      <td>20160822</td>\n",
       "      <td>Mon</td>\n",
       "      <td>SBS</td>\n",
       "      <td>일일드라마(당신은선물)</td>\n",
       "      <td>2016-08-22 19:11:56</td>\n",
       "      <td>2016-08-22 19:50:24</td>\n",
       "      <td>드라마&amp;영화</td>\n",
       "    </tr>\n",
       "    <tr>\n",
       "      <th>909034</th>\n",
       "      <td>20160822</td>\n",
       "      <td>Mon</td>\n",
       "      <td>SBS</td>\n",
       "      <td>SBS8뉴스</td>\n",
       "      <td>2016-08-22 19:53:37</td>\n",
       "      <td>2016-08-22 20:51:45</td>\n",
       "      <td>보도</td>\n",
       "    </tr>\n",
       "  </tbody>\n",
       "</table>\n",
       "</div>"
      ],
      "text/plain": [
       "              일자   요일  방송사         프로그램명          프로그램편성시작시간  \\\n",
       "909032  20160822  Mon  SBS  일일드라마(당신은선물) 2016-08-22 19:11:56   \n",
       "909034  20160822  Mon  SBS        SBS8뉴스 2016-08-22 19:53:37   \n",
       "\n",
       "                프로그램편성종료시간     대분류  \n",
       "909032 2016-08-22 19:50:24  드라마&영화  \n",
       "909034 2016-08-22 20:51:45      보도  "
      ]
     },
     "execution_count": 372,
     "metadata": {},
     "output_type": "execute_result"
    }
   ],
   "source": [
    "SBS_schedule.loc[(SBS_schedule.프로그램명.shift(-1) == 'SBS8뉴스') | (SBS_schedule.프로그램명 == 'SBS8뉴스')]"
   ]
  },
  {
   "cell_type": "markdown",
   "metadata": {},
   "source": [
    "#### SBS8뉴스 시청자(1분 초과) 중 일일드라마 시청자"
   ]
  },
  {
   "cell_type": "code",
   "execution_count": 373,
   "metadata": {
    "collapsed": false,
    "scrolled": false
   },
   "outputs": [
    {
     "data": {
      "text/plain": [
       "81"
      ]
     },
     "execution_count": 373,
     "metadata": {},
     "output_type": "execute_result"
    }
   ],
   "source": [
    "both = news_viewer_df[news_viewer_df.프로그램명 == drama].ID.unique()\n",
    "len(both)"
   ]
  },
  {
   "cell_type": "markdown",
   "metadata": {},
   "source": [
    "#### SBS8뉴스 시청자(1분 초과) 중 일일드라마로부터 이어서 넘어온 시청자"
   ]
  },
  {
   "cell_type": "code",
   "execution_count": 374,
   "metadata": {
    "collapsed": false,
    "scrolled": true
   },
   "outputs": [
    {
     "data": {
      "text/plain": [
       "46"
      ]
     },
     "execution_count": 374,
     "metadata": {},
     "output_type": "execute_result"
    }
   ],
   "source": [
    "continuous_both = news_viewer_df[(news_viewer_df.프로그램명 == drama)\\\n",
    "               & (news_viewer_df.시청종료시간 > news_viewer_df.프로그램편성종료시간)\\\n",
    "               & (news_viewer_df.반복 == True)]\n",
    "len(continuous_both.ID.unique())"
   ]
  },
  {
   "cell_type": "code",
   "execution_count": 375,
   "metadata": {
    "collapsed": false
   },
   "outputs": [],
   "source": [
    "# target_schedule.to_csv('output/program_schedule.csv')"
   ]
  },
  {
   "cell_type": "code",
   "execution_count": 376,
   "metadata": {
    "collapsed": false,
    "scrolled": true
   },
   "outputs": [
    {
     "name": "stdout",
     "output_type": "stream",
     "text": [
      "0:01:46.271840\n"
     ]
    }
   ],
   "source": [
    "timer_end = datetime.now()\n",
    "print(timer_end-timer_start)"
   ]
  },
  {
   "cell_type": "code",
   "execution_count": 423,
   "metadata": {
    "collapsed": false
   },
   "outputs": [],
   "source": [
    "def weekday_cont_watch(dataf, someday):\n",
    "    view_threshold = 60\n",
    "    news_viewer = tidy_df[(tidy_df.일자 == someday) & \\\n",
    "                      (tidy_df.프로그램명.str.contains('SBS8뉴스')) & \\\n",
    "                      (tidy_df.프로그램시청시간 > view_threshold)].ID.unique()\n",
    "    print('{0} SBS8뉴스 {1}초 초과 시청자 수 : {2}명'.format(someday, view_threshold, len(news_viewer)))\n",
    "    \n",
    "    news_viewer_df = tidy_df[(tidy_df.일자 == someday) & tidy_df.ID.isin(news_viewer)]\\\n",
    "                        .loc[:,['ID', '방송사', '시청시작시간', '시청종료시간','프로그램시청시간',\\\n",
    "                                '프로그램편성시작시간', '프로그램편성종료시간', '프로그램명', '반복']]\\\n",
    "                        .sort_values(['ID', '시청시작시간', '프로그램편성시작시간']).copy()\n",
    "            \n",
    "    SBS_schedule = target_schedule[(target_schedule.일자 == someday) & (target_schedule.방송사 == 'SBS')].copy()\n",
    "    drama = SBS_schedule.loc[(SBS_schedule.프로그램명.shift(-1) == 'SBS8뉴스')].프로그램명.iloc[0]\n",
    "    print('{0} SBS8뉴스 직전 프로그램 : {1}'.format(someday, drama))\n",
    "    \n",
    "    both = news_viewer_df[(news_viewer_df.프로그램명 == drama) & (news_viewer_df.프로그램시청시간 > view_threshold)].ID.unique()\n",
    "    print('{0} SBS8뉴스 시청자 중 {1} {2}초 초과 시청자 수 : {3}명'.format(someday, drama, view_threshold, len(both)))\n",
    "    \n",
    "    print('비율 : {0:.2f}%'.format(len(both)/len(news_viewer)*100))\n",
    "\n",
    "    return (someday, len(news_viewer), drama, len(both), len(both)/len(news_viewer))"
   ]
  },
  {
   "cell_type": "code",
   "execution_count": 419,
   "metadata": {
    "collapsed": false
   },
   "outputs": [
    {
     "name": "stdout",
     "output_type": "stream",
     "text": [
      "20150817 SBS8뉴스 60초 초과 시청자 수 : 315명\n",
      "20150817 SBS8뉴스 직전 프로그램 : 일일드라마(돌아온황금복)\n",
      "20150817 SBS8뉴스 시청자 중 일일드라마(돌아온황금복) 60초 초과 시청자 수: 91명\n",
      "비율 : 28.89%\n"
     ]
    },
    {
     "data": {
      "text/plain": [
       "(315, '일일드라마(돌아온황금복)', 91)"
      ]
     },
     "execution_count": 419,
     "metadata": {},
     "output_type": "execute_result"
    }
   ],
   "source": [
    "weekday_cont_watch(tidy_df, target_weekday[0])"
   ]
  },
  {
   "cell_type": "code",
   "execution_count": 424,
   "metadata": {
    "collapsed": false,
    "scrolled": true
   },
   "outputs": [
    {
     "name": "stdout",
     "output_type": "stream",
     "text": [
      "20150817 SBS8뉴스 60초 초과 시청자 수 : 315명\n",
      "20150817 SBS8뉴스 직전 프로그램 : 일일드라마(돌아온황금복)\n",
      "20150817 SBS8뉴스 시청자 중 일일드라마(돌아온황금복) 60초 초과 시청자 수 : 91명\n",
      "비율 : 28.89%\n",
      "----------\n",
      "20150818 SBS8뉴스 60초 초과 시청자 수 : 323명\n",
      "20150818 SBS8뉴스 직전 프로그램 : 일일드라마(돌아온황금복)\n",
      "20150818 SBS8뉴스 시청자 중 일일드라마(돌아온황금복) 60초 초과 시청자 수 : 92명\n",
      "비율 : 28.48%\n",
      "----------\n",
      "20150819 SBS8뉴스 60초 초과 시청자 수 : 318명\n",
      "20150819 SBS8뉴스 직전 프로그램 : 일일드라마(돌아온황금복)\n",
      "20150819 SBS8뉴스 시청자 중 일일드라마(돌아온황금복) 60초 초과 시청자 수 : 93명\n",
      "비율 : 29.25%\n",
      "----------\n",
      "20150820 SBS8뉴스 60초 초과 시청자 수 : 344명\n",
      "20150820 SBS8뉴스 직전 프로그램 : 일일드라마(돌아온황금복)\n",
      "20150820 SBS8뉴스 시청자 중 일일드라마(돌아온황금복) 60초 초과 시청자 수 : 106명\n",
      "비율 : 30.81%\n",
      "----------\n",
      "20150821 SBS8뉴스 60초 초과 시청자 수 : 318명\n",
      "20150821 SBS8뉴스 직전 프로그램 : 일일드라마(돌아온황금복)\n",
      "20150821 SBS8뉴스 시청자 중 일일드라마(돌아온황금복) 60초 초과 시청자 수 : 86명\n",
      "비율 : 27.04%\n",
      "----------\n",
      "20150824 SBS8뉴스 60초 초과 시청자 수 : 359명\n",
      "20150824 SBS8뉴스 직전 프로그램 : 일일드라마(돌아온황금복)\n",
      "20150824 SBS8뉴스 시청자 중 일일드라마(돌아온황금복) 60초 초과 시청자 수 : 119명\n",
      "비율 : 33.15%\n",
      "----------\n",
      "20150825 SBS8뉴스 60초 초과 시청자 수 : 401명\n",
      "20150825 SBS8뉴스 직전 프로그램 : 일일드라마(돌아온황금복)\n",
      "20150825 SBS8뉴스 시청자 중 일일드라마(돌아온황금복) 60초 초과 시청자 수 : 114명\n",
      "비율 : 28.43%\n",
      "----------\n",
      "20150826 SBS8뉴스 60초 초과 시청자 수 : 319명\n",
      "20150826 SBS8뉴스 직전 프로그램 : 일일드라마(돌아온황금복)\n",
      "20150826 SBS8뉴스 시청자 중 일일드라마(돌아온황금복) 60초 초과 시청자 수 : 108명\n",
      "비율 : 33.86%\n",
      "----------\n",
      "20150827 SBS8뉴스 60초 초과 시청자 수 : 300명\n",
      "20150827 SBS8뉴스 직전 프로그램 : 일일드라마(돌아온황금복)\n",
      "20150827 SBS8뉴스 시청자 중 일일드라마(돌아온황금복) 60초 초과 시청자 수 : 101명\n",
      "비율 : 33.67%\n",
      "----------\n",
      "20150828 SBS8뉴스 60초 초과 시청자 수 : 271명\n",
      "20150828 SBS8뉴스 직전 프로그램 : 일일드라마(돌아온황금복)\n",
      "20150828 SBS8뉴스 시청자 중 일일드라마(돌아온황금복) 60초 초과 시청자 수 : 65명\n",
      "비율 : 23.99%\n",
      "----------\n",
      "20160822 SBS8뉴스 60초 초과 시청자 수 : 365명\n",
      "20160822 SBS8뉴스 직전 프로그램 : 일일드라마(당신은선물)\n",
      "20160822 SBS8뉴스 시청자 중 일일드라마(당신은선물) 60초 초과 시청자 수 : 71명\n",
      "비율 : 19.45%\n",
      "----------\n",
      "20160823 SBS8뉴스 60초 초과 시청자 수 : 327명\n",
      "20160823 SBS8뉴스 직전 프로그램 : 일일드라마(당신은선물)\n",
      "20160823 SBS8뉴스 시청자 중 일일드라마(당신은선물) 60초 초과 시청자 수 : 65명\n",
      "비율 : 19.88%\n",
      "----------\n",
      "20160824 SBS8뉴스 60초 초과 시청자 수 : 315명\n",
      "20160824 SBS8뉴스 직전 프로그램 : 일일드라마(당신은선물)\n",
      "20160824 SBS8뉴스 시청자 중 일일드라마(당신은선물) 60초 초과 시청자 수 : 55명\n",
      "비율 : 17.46%\n",
      "----------\n",
      "20160825 SBS8뉴스 60초 초과 시청자 수 : 359명\n",
      "20160825 SBS8뉴스 직전 프로그램 : 일일드라마(당신은선물)\n",
      "20160825 SBS8뉴스 시청자 중 일일드라마(당신은선물) 60초 초과 시청자 수 : 65명\n",
      "비율 : 18.11%\n",
      "----------\n",
      "20160826 SBS8뉴스 60초 초과 시청자 수 : 334명\n",
      "20160826 SBS8뉴스 직전 프로그램 : 일일드라마(당신은선물)\n",
      "20160826 SBS8뉴스 시청자 중 일일드라마(당신은선물) 60초 초과 시청자 수 : 72명\n",
      "비율 : 21.56%\n",
      "----------\n",
      "20160829 SBS8뉴스 60초 초과 시청자 수 : 333명\n",
      "20160829 SBS8뉴스 직전 프로그램 : 일일드라마(당신은선물)\n",
      "20160829 SBS8뉴스 시청자 중 일일드라마(당신은선물) 60초 초과 시청자 수 : 57명\n",
      "비율 : 17.12%\n",
      "----------\n",
      "20160830 SBS8뉴스 60초 초과 시청자 수 : 308명\n",
      "20160830 SBS8뉴스 직전 프로그램 : 일일드라마(당신은선물)\n",
      "20160830 SBS8뉴스 시청자 중 일일드라마(당신은선물) 60초 초과 시청자 수 : 73명\n",
      "비율 : 23.70%\n",
      "----------\n",
      "20160831 SBS8뉴스 60초 초과 시청자 수 : 335명\n",
      "20160831 SBS8뉴스 직전 프로그램 : 일일드라마(당신은선물)\n",
      "20160831 SBS8뉴스 시청자 중 일일드라마(당신은선물) 60초 초과 시청자 수 : 78명\n",
      "비율 : 23.28%\n",
      "----------\n",
      "20160901 SBS8뉴스 60초 초과 시청자 수 : 323명\n",
      "20160901 SBS8뉴스 직전 프로그램 : 일일드라마(당신은선물)\n",
      "20160901 SBS8뉴스 시청자 중 일일드라마(당신은선물) 60초 초과 시청자 수 : 59명\n",
      "비율 : 18.27%\n",
      "----------\n",
      "20160902 SBS8뉴스 60초 초과 시청자 수 : 285명\n",
      "20160902 SBS8뉴스 직전 프로그램 : 일일드라마(당신은선물)\n",
      "20160902 SBS8뉴스 시청자 중 일일드라마(당신은선물) 60초 초과 시청자 수 : 64명\n",
      "비율 : 22.46%\n",
      "----------\n",
      "20161024 SBS8뉴스 60초 초과 시청자 수 : 284명\n",
      "20161024 SBS8뉴스 직전 프로그램 : 일일드라마(당신은선물)\n",
      "20161024 SBS8뉴스 시청자 중 일일드라마(당신은선물) 60초 초과 시청자 수 : 64명\n",
      "비율 : 22.54%\n",
      "----------\n",
      "20161025 SBS8뉴스 60초 초과 시청자 수 : 333명\n",
      "20161025 SBS8뉴스 직전 프로그램 : 일일드라마(당신은선물)\n",
      "20161025 SBS8뉴스 시청자 중 일일드라마(당신은선물) 60초 초과 시청자 수 : 88명\n",
      "비율 : 26.43%\n",
      "----------\n",
      "20161026 SBS8뉴스 60초 초과 시청자 수 : 257명\n",
      "20161026 SBS8뉴스 직전 프로그램 : 일일드라마(당신은선물)\n",
      "20161026 SBS8뉴스 시청자 중 일일드라마(당신은선물) 60초 초과 시청자 수 : 57명\n",
      "비율 : 22.18%\n",
      "----------\n",
      "20161027 SBS8뉴스 60초 초과 시청자 수 : 244명\n",
      "20161027 SBS8뉴스 직전 프로그램 : 일일드라마(당신은선물)\n",
      "20161027 SBS8뉴스 시청자 중 일일드라마(당신은선물) 60초 초과 시청자 수 : 55명\n",
      "비율 : 22.54%\n",
      "----------\n",
      "20161028 SBS8뉴스 60초 초과 시청자 수 : 278명\n",
      "20161028 SBS8뉴스 직전 프로그램 : 일일드라마(당신은선물)\n",
      "20161028 SBS8뉴스 시청자 중 일일드라마(당신은선물) 60초 초과 시청자 수 : 69명\n",
      "비율 : 24.82%\n",
      "----------\n",
      "20161031 SBS8뉴스 60초 초과 시청자 수 : 327명\n",
      "20161031 SBS8뉴스 직전 프로그램 : 일일드라마(당신은선물)\n",
      "20161031 SBS8뉴스 시청자 중 일일드라마(당신은선물) 60초 초과 시청자 수 : 86명\n",
      "비율 : 26.30%\n",
      "----------\n",
      "20161101 SBS8뉴스 60초 초과 시청자 수 : 325명\n",
      "20161101 SBS8뉴스 직전 프로그램 : 일일드라마(당신은선물)\n",
      "20161101 SBS8뉴스 시청자 중 일일드라마(당신은선물) 60초 초과 시청자 수 : 78명\n",
      "비율 : 24.00%\n",
      "----------\n",
      "20161102 SBS8뉴스 60초 초과 시청자 수 : 280명\n",
      "20161102 SBS8뉴스 직전 프로그램 : 일일드라마(당신은선물)\n",
      "20161102 SBS8뉴스 시청자 중 일일드라마(당신은선물) 60초 초과 시청자 수 : 68명\n",
      "비율 : 24.29%\n",
      "----------\n",
      "20161103 SBS8뉴스 60초 초과 시청자 수 : 246명\n",
      "20161103 SBS8뉴스 직전 프로그램 : 일일드라마(당신은선물)\n",
      "20161103 SBS8뉴스 시청자 중 일일드라마(당신은선물) 60초 초과 시청자 수 : 55명\n",
      "비율 : 22.36%\n",
      "----------\n",
      "20161104 SBS8뉴스 60초 초과 시청자 수 : 283명\n",
      "20161104 SBS8뉴스 직전 프로그램 : 일일드라마(당신은선물)\n",
      "20161104 SBS8뉴스 시청자 중 일일드라마(당신은선물) 60초 초과 시청자 수 : 52명\n",
      "비율 : 18.37%\n",
      "----------\n",
      "20170109 SBS8뉴스 60초 초과 시청자 수 : 258명\n",
      "20170109 SBS8뉴스 직전 프로그램 : 일일드라마(사랑은방울방울)\n",
      "20170109 SBS8뉴스 시청자 중 일일드라마(사랑은방울방울) 60초 초과 시청자 수 : 69명\n",
      "비율 : 26.74%\n",
      "----------\n",
      "20170110 SBS8뉴스 60초 초과 시청자 수 : 255명\n",
      "20170110 SBS8뉴스 직전 프로그램 : 일일드라마(사랑은방울방울)\n",
      "20170110 SBS8뉴스 시청자 중 일일드라마(사랑은방울방울) 60초 초과 시청자 수 : 67명\n",
      "비율 : 26.27%\n",
      "----------\n",
      "20170111 SBS8뉴스 60초 초과 시청자 수 : 247명\n",
      "20170111 SBS8뉴스 직전 프로그램 : 일일드라마(사랑은방울방울)\n",
      "20170111 SBS8뉴스 시청자 중 일일드라마(사랑은방울방울) 60초 초과 시청자 수 : 69명\n",
      "비율 : 27.94%\n",
      "----------\n",
      "20170112 SBS8뉴스 60초 초과 시청자 수 : 256명\n",
      "20170112 SBS8뉴스 직전 프로그램 : 일일드라마(사랑은방울방울)\n",
      "20170112 SBS8뉴스 시청자 중 일일드라마(사랑은방울방울) 60초 초과 시청자 수 : 63명\n",
      "비율 : 24.61%\n",
      "----------\n",
      "20170113 SBS8뉴스 60초 초과 시청자 수 : 273명\n",
      "20170113 SBS8뉴스 직전 프로그램 : 일일드라마(사랑은방울방울)\n",
      "20170113 SBS8뉴스 시청자 중 일일드라마(사랑은방울방울) 60초 초과 시청자 수 : 73명\n",
      "비율 : 26.74%\n",
      "----------\n",
      "20170116 SBS8뉴스 60초 초과 시청자 수 : 265명\n",
      "20170116 SBS8뉴스 직전 프로그램 : 일일드라마(사랑은방울방울)\n",
      "20170116 SBS8뉴스 시청자 중 일일드라마(사랑은방울방울) 60초 초과 시청자 수 : 80명\n",
      "비율 : 30.19%\n",
      "----------\n",
      "20170117 SBS8뉴스 60초 초과 시청자 수 : 287명\n",
      "20170117 SBS8뉴스 직전 프로그램 : 일일드라마(사랑은방울방울)\n",
      "20170117 SBS8뉴스 시청자 중 일일드라마(사랑은방울방울) 60초 초과 시청자 수 : 78명\n",
      "비율 : 27.18%\n",
      "----------\n",
      "20170118 SBS8뉴스 60초 초과 시청자 수 : 260명\n",
      "20170118 SBS8뉴스 직전 프로그램 : 일일드라마(사랑은방울방울)\n",
      "20170118 SBS8뉴스 시청자 중 일일드라마(사랑은방울방울) 60초 초과 시청자 수 : 59명\n",
      "비율 : 22.69%\n",
      "----------\n",
      "20170119 SBS8뉴스 60초 초과 시청자 수 : 251명\n",
      "20170119 SBS8뉴스 직전 프로그램 : 일일드라마(사랑은방울방울)\n",
      "20170119 SBS8뉴스 시청자 중 일일드라마(사랑은방울방울) 60초 초과 시청자 수 : 62명\n",
      "비율 : 24.70%\n",
      "----------\n",
      "20170120 SBS8뉴스 60초 초과 시청자 수 : 256명\n",
      "20170120 SBS8뉴스 직전 프로그램 : 일일드라마(사랑은방울방울)\n",
      "20170120 SBS8뉴스 시청자 중 일일드라마(사랑은방울방울) 60초 초과 시청자 수 : 60명\n",
      "비율 : 23.44%\n",
      "----------\n"
     ]
    }
   ],
   "source": [
    "aggregate = []\n",
    "for day in target_weekday:\n",
    "    aggregate.append(weekday_cont_watch(tidy_df, day))\n",
    "    print('-'*10)"
   ]
  },
  {
   "cell_type": "code",
   "execution_count": 474,
   "metadata": {
    "collapsed": false
   },
   "outputs": [],
   "source": [
    "ts = pd.DataFrame(aggregate, columns = ['일자', '뉴스시청자', '일일드라마', '중복시청자', '비율'])[:10]"
   ]
  },
  {
   "cell_type": "code",
   "execution_count": 526,
   "metadata": {
    "collapsed": false
   },
   "outputs": [
    {
     "data": {
      "text/plain": [
       "<matplotlib.axes._subplots.AxesSubplot at 0x11934df98>"
      ]
     },
     "execution_count": 526,
     "metadata": {},
     "output_type": "execute_result"
    },
    {
     "data": {
      "image/png": "[encoded data removed]",
      "text/plain": [
       "<matplotlib.figure.Figure at 0x1196c4588>"
      ]
     },
     "metadata": {},
     "output_type": "display_data"
    }
   ],
   "source": [
    "ts.plot(kind = 'barh', x= '일자', y = ['뉴스시청자', '중복시청자'], figsize = (12,10), fontsize = 15, colormap = \"viridis\")"
   ]
  },
  {
   "cell_type": "code",
   "execution_count": null,
   "metadata": {
    "collapsed": false
   },
   "outputs": [],
   "source": [
    "# flatten = pd.DataFrame(visitors_count(date, target_channel).stack()).reset_index()\n",
    "# flatten.columns = ['time', 'channel', 'viewer']"
   ]
  }
 ],
 "metadata": {
  "kernelspec": {
   "display_name": "Python 3",
   "language": "python",
   "name": "python3"
  },
  "language_info": {
   "codemirror_mode": {
    "name": "ipython",
    "version": 3
   },
   "file_extension": ".py",
   "mimetype": "text/x-python",
   "name": "python",
   "nbconvert_exporter": "python",
   "pygments_lexer": "ipython3",
   "version": "3.5.2"
  }
 },
 "nbformat": 4,
 "nbformat_minor": 0
}
