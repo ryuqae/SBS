{
 "cells": [
  {
   "cell_type": "code",
   "execution_count": null,
   "metadata": {
    "scrolled": true
   },
   "outputs": [],
   "source": [
    "%autosave 300"
   ]
  },
  {
   "cell_type": "code",
   "execution_count": null,
   "metadata": {
    "collapsed": true
   },
   "outputs": [],
   "source": [
    "# from Cleanser import get_data, convert_time\n",
    "from functools import reduce\n",
    "import numpy as np\n",
    "import pandas as pd\n",
    "import matplotlib.pyplot as plt\n",
    "import matplotlib.font_manager as fm\n",
    "import matplotlib\n",
    "\n",
    "import seaborn as sns\n",
    "from sklearn.cluster import DBSCAN, KMeans, MiniBatchKMeans\n",
    "from sklearn.preprocessing import StandardScaler, MinMaxScaler\n",
    "from sklearn.datasets.samples_generator import make_blobs\n",
    "from sklearn import metrics\n",
    "from sklearn.metrics import silhouette_score\n",
    "from sklearn.decomposition import PCA\n",
    "\n",
    "from scipy.spatial.distance import cdist, pdist\n",
    "from datetime import datetime\n",
    "sns.set(color_codes=True)\n",
    "# matplotlib.style.use(\"ggplot\")\n",
    "%matplotlib inline"
   ]
  },
  {
   "cell_type": "code",
   "execution_count": null,
   "metadata": {},
   "outputs": [],
   "source": [
    "# print(plt.style.available)\n",
    "print(matplotlib.matplotlib_fname())\n",
    "\n",
    "font_location = \"C:Windows/Fonts/NanumBarunGothic.ttf\"\n",
    "# font_location = \"/Users/RyuQae/Library/Fonts/NanumBarunGothic.otf\"\n",
    "# font_location = \"/usr/share/fonts/truetype/nanum/NanumBarunGothic.ttf\"\n",
    "font_name = fm.FontProperties(fname=font_location).get_name()\n",
    "matplotlib.rc('font', family=font_name)\n",
    "\n",
    "print(matplotlib.rcParams[\"font.family\"])"
   ]
  },
  {
   "cell_type": "code",
   "execution_count": null,
   "metadata": {
    "collapsed": true
   },
   "outputs": [],
   "source": [
    "tidy_df = pd.read_pickle('tidy_df.pkl')"
   ]
  },
  {
   "cell_type": "code",
   "execution_count": null,
   "metadata": {},
   "outputs": [],
   "source": [
    "tidy_df.shape"
   ]
  },
  {
   "cell_type": "markdown",
   "metadata": {},
   "source": [
    "프라임타임 시간대(17시 이후부터) 1분 넘게 시청한 기록을 따로 분리하여 prime에 저장"
   ]
  },
  {
   "cell_type": "code",
   "execution_count": null,
   "metadata": {
    "collapsed": true
   },
   "outputs": [],
   "source": [
    "prime = tidy_df[(tidy_df.시청시작시간.dt.hour >= 17) & (tidy_df.프로그램시청시간 > 60)].copy()"
   ]
  },
  {
   "cell_type": "code",
   "execution_count": null,
   "metadata": {
    "collapsed": true,
    "scrolled": false
   },
   "outputs": [],
   "source": [
    "temp = prime.groupby(['기간', '일자', '요일', 'ID']).agg({'시청시작시간' : min, '시청종료시간' : max})"
   ]
  },
  {
   "cell_type": "markdown",
   "metadata": {},
   "source": [
    "T2, T3, T4 전 기간에 걸쳐 패널로 등장하는 ID만을 대상으로 target_audience로 정의"
   ]
  },
  {
   "cell_type": "code",
   "execution_count": null,
   "metadata": {
    "collapsed": true
   },
   "outputs": [],
   "source": [
    "ids = tidy_df.groupby('기간').ID.apply(set).reset_index().set_index('기간')\n",
    "target_audience = list(ids.ID[0] & ids.ID[1] & ids.ID[2])"
   ]
  },
  {
   "cell_type": "markdown",
   "metadata": {},
   "source": [
    "개별 시청자의 17시 이후 첫 시청기록의 시작시간으로 프라임타임 진입시간대 정의하고, 그날 마지막 시청기록의 시청종료시간으로 이탈시간대 정의"
   ]
  },
  {
   "cell_type": "code",
   "execution_count": null,
   "metadata": {
    "collapsed": true
   },
   "outputs": [],
   "source": [
    "temp['진입시간대'] = temp.시청시작시간.dt.hour\n",
    "temp['이탈시간대'] = temp.시청종료시간.dt.hour\n",
    "temp.이탈시간대.replace({0:24, 1:25, 2:26, 3:27}, inplace=True)\n",
    "temp.진입시간대.replace({0:24, 1:25, 2:26, 3:27}, inplace=True)"
   ]
  },
  {
   "cell_type": "code",
   "execution_count": null,
   "metadata": {
    "collapsed": true
   },
   "outputs": [],
   "source": [
    "agg1 = {\n",
    "    '프로그램시청시간' : {\n",
    "        '시청시간' : 'sum'\n",
    "    }\n",
    "}"
   ]
  },
  {
   "cell_type": "markdown",
   "metadata": {},
   "source": [
    "====================================================================="
   ]
  },
  {
   "cell_type": "code",
   "execution_count": null,
   "metadata": {
    "collapsed": true
   },
   "outputs": [],
   "source": [
    "pgenre_ratio = prime.groupby(['ID', '기간', '일자', '요일', '대분류'])\\\n",
    "    .agg({'프로그램시청시간':'sum'}).reset_index()"
   ]
  },
  {
   "cell_type": "markdown",
   "metadata": {},
   "source": [
    "주중/주말을 나눠서 데이터프레임 저장"
   ]
  },
  {
   "cell_type": "code",
   "execution_count": null,
   "metadata": {
    "collapsed": true
   },
   "outputs": [],
   "source": [
    "weekday = ['Mon','Tue','Wed','Thu','Fri']\n",
    "weekend = ['Sat', 'Sun']\n",
    "wkday = pgenre_ratio[pgenre_ratio.요일.isin(weekday)].copy()\n",
    "wkend = pgenre_ratio[pgenre_ratio.요일.isin(weekend)].copy()"
   ]
  },
  {
   "cell_type": "code",
   "execution_count": null,
   "metadata": {
    "collapsed": true
   },
   "outputs": [],
   "source": [
    "pvtd = pd.pivot_table(pgenre_ratio, \n",
    "                          values = '프로그램시청시간', \n",
    "                          index = ['기간', '일자', '요일', 'ID'], \n",
    "                          columns = '대분류').replace(np.nan, 0)"
   ]
  },
  {
   "cell_type": "code",
   "execution_count": null,
   "metadata": {},
   "outputs": [],
   "source": [
    "vector = pvtd.join(temp[['진입시간대','이탈시간대']]).reset_index()\n",
    "vector.head(10)"
   ]
  },
  {
   "cell_type": "code",
   "execution_count": null,
   "metadata": {
    "collapsed": true
   },
   "outputs": [],
   "source": [
    "wkday_v, wkend_v = vector[vector.요일.isin(weekday)], vector[vector.요일.isin(weekend)]"
   ]
  },
  {
   "cell_type": "code",
   "execution_count": null,
   "metadata": {
    "scrolled": false
   },
   "outputs": [],
   "source": [
    "wkday_v.head(10)"
   ]
  },
  {
   "cell_type": "markdown",
   "metadata": {},
   "source": [
    "클러스터링의 input vector로 사용할 column은 아래와 같다."
   ]
  },
  {
   "cell_type": "code",
   "execution_count": null,
   "metadata": {
    "scrolled": false
   },
   "outputs": [],
   "source": [
    "wkday_v.iloc[:,4:14].head(10)"
   ]
  },
  {
   "cell_type": "markdown",
   "metadata": {},
   "source": [
    "우선 주중 장르별 시청시간에 대하여 각각 Standard Scaler와 MinMax Scaler로 Scale을 조정한다."
   ]
  },
  {
   "cell_type": "code",
   "execution_count": null,
   "metadata": {
    "collapsed": true
   },
   "outputs": [],
   "source": [
    "wkday_std = StandardScaler().fit_transform(wkday_v.iloc[:,4:14])\n",
    "wkday_Mm = MinMaxScaler().fit_transform(wkday_v.iloc[:,4:14])"
   ]
  },
  {
   "cell_type": "markdown",
   "metadata": {},
   "source": [
    "## DBSCAN"
   ]
  },
  {
   "cell_type": "code",
   "execution_count": null,
   "metadata": {
    "collapsed": true
   },
   "outputs": [],
   "source": [
    "def do_dbscan(df, eps):\n",
    "    start = datetime.now()\n",
    "    db = DBSCAN(eps=eps).fit(df)\n",
    "    print(\"Finished Learning: \",datetime.now() - start)\n",
    "    \n",
    "    core_samples_mask = np.zeros_like(db.labels_, dtype=bool)\n",
    "    core_samples_mask[db.core_sample_indices_] = True\n",
    "    labels = db.labels_\n",
    "    \n",
    "    n_clusters_ = len(set(labels)) - (1 if -1 in labels else 0)\n",
    "    print(\"The Number of Clusters: \", n_clusters_)\n",
    "    \n",
    "    major_groups = np.arange(-1, n_clusters_)[np.bincount(labels+1) > 500].tolist()\n",
    "    print(\"Major Groups are \", major_groups)\n",
    "    \n",
    "    return labels, major_groups"
   ]
  },
  {
   "cell_type": "markdown",
   "metadata": {},
   "source": [
    "두 가지 처리한 vector를 입력값으로 각각 DBSCAN 클러스터링"
   ]
  },
  {
   "cell_type": "code",
   "execution_count": null,
   "metadata": {
    "collapsed": true
   },
   "outputs": [],
   "source": [
    "std_labels, std_groups = do_dbscan(wkday_std, 0.08)"
   ]
  },
  {
   "cell_type": "code",
   "execution_count": null,
   "metadata": {
    "collapsed": true
   },
   "outputs": [],
   "source": [
    "mm_labels, mm_groups = do_dbscan(wkday_Mm, 0.02)"
   ]
  },
  {
   "cell_type": "code",
   "execution_count": null,
   "metadata": {
    "collapsed": true,
    "scrolled": false
   },
   "outputs": [],
   "source": [
    "wkday_v[std_labels == 21].head(20)"
   ]
  },
  {
   "cell_type": "markdown",
   "metadata": {
    "collapsed": true
   },
   "source": [
    "## K-Means"
   ]
  },
  {
   "cell_type": "code",
   "execution_count": null,
   "metadata": {
    "collapsed": true
   },
   "outputs": [],
   "source": [
    "def do_kmeans(df, k_range=range(2,30)):\n",
    "    KMs = []\n",
    "    Ls = []\n",
    "\n",
    "    start = datetime.now()\n",
    "    for n_clusters in k_range:\n",
    "        print(\"k: \", n_clusters, \"centroids\")\n",
    "        kmeans = KMeans(n_clusters=n_clusters).fit(df)\n",
    "        labels = kmeans.labels_\n",
    "        KMs.append(kmeans)\n",
    "        Ls.append(labels)\n",
    "    print(\"Finished Learning: \",datetime.now() - start)\n",
    "    \n",
    "    centroids = [k.cluster_centers_ for k in KMs]\n",
    "    D_k = [cdist(df, cent, 'euclidean') for cent in centroids]\n",
    "    cIdx = [np.argmin(D,axis=1) for D in D_k]\n",
    "    dist = [np.min(D,axis=1) for D in D_k]\n",
    "    avgWithinSS = [sum(d)/df.shape[0] for d in dist]\n",
    "    \n",
    "    return KMs, Ls, centroids, avgWithinSS, cIdx"
   ]
  },
  {
   "cell_type": "code",
   "execution_count": null,
   "metadata": {
    "collapsed": true
   },
   "outputs": [],
   "source": [
    "# Run only one of either\n",
    "kms, labs, cents, awss, cidx = do_kmeans(wkday_std)\n",
    "# kms, labs, cents, awss, cidx = do_kmeans(wkday_Mm)"
   ]
  },
  {
   "cell_type": "raw",
   "metadata": {
    "collapsed": true
   },
   "source": [
    "# Total with-in sum of square (Memory Error)\n",
    "wcss = [sum(d**2) for d in dist]\n",
    "tss = sum(pdist(dt_trans)**2)/dt_trans.shape[0]\n",
    "bss = tss-wcss"
   ]
  },
  {
   "cell_type": "code",
   "execution_count": null,
   "metadata": {
    "collapsed": true
   },
   "outputs": [],
   "source": [
    "# elbow curve\n",
    "\n",
    "def elbow(awss, kIdx = 18, k_range=range(2,30)):\n",
    "    fig = plt.figure(figsize=(10,7))\n",
    "    ax = fig.add_subplot(111)\n",
    "    ax.plot(k_range, awss, '*-')\n",
    "    ax.plot(k_range[kIdx], awss[kIdx], marker='o', markersize=12, \n",
    "    markeredgewidth=2, markeredgecolor='hotpink', markerfacecolor='None')\n",
    "    plt.grid(True)\n",
    "    plt.xlabel('Number of clusters')\n",
    "    plt.ylabel('Average within-cluster sum of squares')\n",
    "    plt.title('Elbow for K-means clustering')"
   ]
  },
  {
   "cell_type": "code",
   "execution_count": null,
   "metadata": {
    "collapsed": true
   },
   "outputs": [],
   "source": [
    "elbow(awss)"
   ]
  },
  {
   "cell_type": "markdown",
   "metadata": {},
   "source": [
    "## PCA for Visualization"
   ]
  },
  {
   "cell_type": "code",
   "execution_count": null,
   "metadata": {
    "collapsed": true
   },
   "outputs": [],
   "source": [
    "pca = PCA(n_components=2)\n",
    "projection = pd.DataFrame(pca.fit_transform(wkday_std))\n",
    "projection.columns = ['first', 'second']\n",
    "projection['group'] = labs[18]\n",
    "\n",
    "# major = projection[projection.group.isin(major_groups)]"
   ]
  },
  {
   "cell_type": "code",
   "execution_count": null,
   "metadata": {
    "collapsed": true
   },
   "outputs": [],
   "source": [
    "projection.tail(10)"
   ]
  },
  {
   "cell_type": "code",
   "execution_count": null,
   "metadata": {
    "collapsed": true,
    "scrolled": false
   },
   "outputs": [],
   "source": [
    "sns.lmplot(\"second\", \"first\", data=projection, fit_reg=False, size=8, markers='*')"
   ]
  },
  {
   "cell_type": "code",
   "execution_count": null,
   "metadata": {
    "collapsed": true
   },
   "outputs": [],
   "source": [
    "sns.lmplot(\"second\", \"first\", data=projection, \n",
    "           fit_reg=False, size=8, hue=\"group\", legend=True, markers='*')"
   ]
  },
  {
   "cell_type": "code",
   "execution_count": null,
   "metadata": {
    "collapsed": true
   },
   "outputs": [],
   "source": [
    "fig, axes = plt.subplots(nrows=3, ncols=2, sharey=True, )\n",
    "fig.subplots_adjust(hspace=.5)\n",
    "\n",
    "wkday_v[labs[18] == 3].describe().loc['mean']\\\n",
    "    .plot(kind='bar', figsize=(12,12), ax=axes[0,0])\n",
    "wkday_v[labs[18] == 6].describe().loc['mean']\\\n",
    "    .plot(kind='bar', figsize=(12,12), ax=axes[0,1])\n",
    "wkday_v[labs[18] == 11].describe().loc['mean']\\\n",
    "    .plot(kind='bar', figsize=(12,12), ax=axes[1,0])\n",
    "wkday_v[labs[18] == 14].describe().loc['mean']\\\n",
    "    .plot(kind='bar', figsize=(12,12), ax=axes[1,1])\n",
    "wkday_v[labs[18] == 15].describe().loc['mean']\\\n",
    "    .plot(kind='bar', figsize=(12,12), ax=axes[2,0])\n",
    "wkday_v[labs[18] == 18].describe().loc['mean']\\\n",
    "    .plot(kind='bar', figsize=(12,12), ax=axes[2,1])\n",
    "\n",
    "\n",
    "# plt.ylim(0,10000)"
   ]
  },
  {
   "cell_type": "code",
   "execution_count": null,
   "metadata": {
    "collapsed": true
   },
   "outputs": [],
   "source": [
    "wkday_v[labs[18] == 3].describe()"
   ]
  },
  {
   "cell_type": "markdown",
   "metadata": {},
   "source": [
    "## TVPro2Vec"
   ]
  },
  {
   "cell_type": "code",
   "execution_count": null,
   "metadata": {
    "scrolled": true
   },
   "outputs": [],
   "source": [
    "from gensim.models import word2vec\n",
    "import logging\n",
    "logging.basicConfig(format='%(asctime)s : %(levelname)s : %(message)s', level=logging.INFO )"
   ]
  },
  {
   "cell_type": "code",
   "execution_count": null,
   "metadata": {
    "collapsed": true
   },
   "outputs": [],
   "source": [
    "watched = tidy_df[tidy_df.프로그램시청시간 >= 600].copy()"
   ]
  },
  {
   "cell_type": "code",
   "execution_count": null,
   "metadata": {
    "collapsed": true
   },
   "outputs": [],
   "source": [
    "daily_programs = watched.groupby(['ID','일자']).프로그램명.apply(list).tolist()\n",
    "whole_programs = watched.groupby(['ID']).프로그램명.apply(list).tolist() "
   ]
  },
  {
   "cell_type": "code",
   "execution_count": null,
   "metadata": {
    "collapsed": true,
    "scrolled": true
   },
   "outputs": [],
   "source": [
    "len(daily_programs)\n",
    "len(whole_programs)"
   ]
  },
  {
   "cell_type": "code",
   "execution_count": null,
   "metadata": {
    "collapsed": true
   },
   "outputs": [],
   "source": [
    "# model = gensim.models.Word2Vec(programs, min_count=1)\n",
    "daily_model = word2vec.Word2Vec(programs, size=300, window=10, min_count=5, workers=8)"
   ]
  },
  {
   "cell_type": "code",
   "execution_count": null,
   "metadata": {
    "collapsed": true
   },
   "outputs": [],
   "source": [
    "model.most_similar(positive=['JTBC뉴스룸'], topn=20)"
   ]
  },
  {
   "cell_type": "code",
   "execution_count": null,
   "metadata": {
    "collapsed": true
   },
   "outputs": [],
   "source": [
    "model.most_similar(positive=['슈퍼맨이돌아왔다'], topn=20)"
   ]
  },
  {
   "cell_type": "code",
   "execution_count": null,
   "metadata": {
    "collapsed": true
   },
   "outputs": [],
   "source": [
    "model.most_similar(positive=['쓸쓸하고찬란하신도깨비'], topn=20)"
   ]
  },
  {
   "cell_type": "code",
   "execution_count": null,
   "metadata": {
    "collapsed": true,
    "scrolled": false
   },
   "outputs": [],
   "source": [
    "model['쓸쓸하고찬란하신도깨비']"
   ]
  },
  {
   "cell_type": "code",
   "execution_count": null,
   "metadata": {
    "collapsed": true
   },
   "outputs": [],
   "source": [
    "whole_model = word2vec.Word2Vec(whole_programs, size=300, window=30, min_count=5, workers=8)"
   ]
  },
  {
   "cell_type": "code",
   "execution_count": null,
   "metadata": {
    "collapsed": true
   },
   "outputs": [],
   "source": [
    "whole_model.most_similar(positive=['가요무대'], topn=20)"
   ]
  },
  {
   "cell_type": "code",
   "execution_count": null,
   "metadata": {
    "collapsed": true,
    "scrolled": false
   },
   "outputs": [],
   "source": [
    "wv, vocabulary = whole_model[whole_model.wv.vocab], whole_model.wv.vocab\n",
    "\n",
    "tsne = TSNE(n_components=2, random_state=0)\n",
    "np.set_printoptions(suppress=True)\n",
    "Y = tsne.fit_transform(wv[500:800,:])\n",
    "\n",
    "plt.figure(figsize=(15,15))\n",
    "plt.scatter(Y[:, 0], Y[:, 1])\n",
    "for label, x, y in zip(vocabulary, Y[:, 0], Y[:, 1]):\n",
    "    plt.annotate(label, xy=(x, y), xytext=(0, 0), textcoords='offset points')\n",
    "plt.show()"
   ]
  },
  {
   "cell_type": "code",
   "execution_count": null,
   "metadata": {
    "collapsed": true
   },
   "outputs": [],
   "source": []
  }
 ],
 "metadata": {
  "anaconda-cloud": {},
  "kernelspec": {
   "display_name": "Python [conda env:DeepEnv]",
   "language": "python",
   "name": "conda-env-DeepEnv-py"
  },
  "language_info": {
   "codemirror_mode": {
    "name": "ipython",
    "version": 3
   },
   "file_extension": ".py",
   "mimetype": "text/x-python",
   "name": "python",
   "nbconvert_exporter": "python",
   "pygments_lexer": "ipython3",
   "version": "3.5.3"
  }
 },
 "nbformat": 4,
 "nbformat_minor": 1
}
